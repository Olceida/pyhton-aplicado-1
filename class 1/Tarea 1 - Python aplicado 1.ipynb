{
 "cells": [
  {
   "cell_type": "markdown",
   "metadata": {},
   "source": [
    "# Tarea 1 - Python aplicado 1 | Fundamentos \n",
    "1) Realizar un programa que solicite al usuario su edad, y nombre.\n",
    "\n",
    "2) De igual manera, solicitar al usuario un número que será sumado a su edad para determinar \n",
    "cuantos años tendrá en X años. \n",
    "\n",
    "    Ejemplo, si el usuario indica que tiene 20 años e ingresa 32 como el número especial, \n",
    "    el programa deberá indicar su edad para ese entonces. En este caso 52 años. \n",
    "\n",
    "3) Utilizando condicionales evaluar la edad actual del usuario. Dependiendo de la misma, mostrar lo siguiente \n",
    "\n",
    "    ⚫ De 0 a 10 años --- Masha y el oso es el mejor programa de todos los tiempos \n",
    "\n",
    "    ⚫ De 11 a 20 años --- Saca los tazos de mucha lucha, prro \n",
    "\n",
    "    ⚫ De 20 a 30 años --- Carnal, no está bien andar invitando a salir a las chicas de secu \n",
    "\n",
    "    ⚫ 40 o más --- Permítame estrechar su mano de poeta a poeta \n",
    "\n"
   ]
  },
  {
   "cell_type": "code",
   "execution_count": null,
   "metadata": {},
   "outputs": [],
   "source": []
  },
  {
   "cell_type": "code",
   "execution_count": null,
   "metadata": {},
   "outputs": [],
   "source": []
  },
  {
   "cell_type": "code",
   "execution_count": null,
   "metadata": {},
   "outputs": [],
   "source": []
  }
 ],
 "metadata": {
  "kernelspec": {
   "display_name": "Python 3",
   "language": "python",
   "name": "python3"
  },
  "language_info": {
   "codemirror_mode": {
    "name": "ipython",
    "version": 3
   },
   "file_extension": ".py",
   "mimetype": "text/x-python",
   "name": "python",
   "nbconvert_exporter": "python",
   "pygments_lexer": "ipython3",
   "version": "3.8.5"
  }
 },
 "nbformat": 4,
 "nbformat_minor": 4
}
