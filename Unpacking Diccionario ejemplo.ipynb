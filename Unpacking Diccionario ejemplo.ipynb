{
 "cells": [
  {
   "cell_type": "markdown",
   "metadata": {},
   "source": [
    "# Unpacking diccionarios"
   ]
  },
  {
   "cell_type": "code",
   "execution_count": 4,
   "metadata": {},
   "outputs": [],
   "source": [
    "alumno = {\n",
    "    'nombre': 'Jose',\n",
    "    'rol': 'Manager',\n",
    "    'matricula' : '123ABC',\n",
    "    'nacionalidad' : 'MXN'\n",
    "}"
   ]
  },
  {
   "cell_type": "code",
   "execution_count": 5,
   "metadata": {},
   "outputs": [
    {
     "data": {
      "text/plain": [
       "{'nombre': 'Jose',\n",
       " 'rol': 'Manager',\n",
       " 'matricula': '123ABC',\n",
       " 'nacionalidad': 'MXN'}"
      ]
     },
     "execution_count": 5,
     "metadata": {},
     "output_type": "execute_result"
    }
   ],
   "source": [
    "alumno"
   ]
  },
  {
   "cell_type": "code",
   "execution_count": 6,
   "metadata": {},
   "outputs": [
    {
     "data": {
      "text/plain": [
       "dict_items([('nombre', 'Jose'), ('rol', 'Manager'), ('matricula', '123ABC'), ('nacionalidad', 'MXN')])"
      ]
     },
     "execution_count": 6,
     "metadata": {},
     "output_type": "execute_result"
    }
   ],
   "source": [
    "alumno.items()"
   ]
  },
  {
   "cell_type": "code",
   "execution_count": 8,
   "metadata": {},
   "outputs": [
    {
     "name": "stdout",
     "output_type": "stream",
     "text": [
      "La llave es nombre, el value es Jose\n",
      "La llave es rol, el value es Manager\n",
      "La llave es matricula, el value es 123ABC\n",
      "La llave es nacionalidad, el value es MXN\n"
     ]
    }
   ],
   "source": [
    "for llave,valor in alumno.items():\n",
    "    print(f\"La llave es {llave}, el value es {valor}\")"
   ]
  },
  {
   "cell_type": "code",
   "execution_count": null,
   "metadata": {},
   "outputs": [],
   "source": [
    "('nombre', 'Jose')\n",
    "('rol', 'Manager')\n",
    "('matricula', '123ABC')\n",
    "('nacionalidad', 'MXN')"
   ]
  }
 ],
 "metadata": {
  "kernelspec": {
   "display_name": "Python 3",
   "language": "python",
   "name": "python3"
  },
  "language_info": {
   "codemirror_mode": {
    "name": "ipython",
    "version": 3
   },
   "file_extension": ".py",
   "mimetype": "text/x-python",
   "name": "python",
   "nbconvert_exporter": "python",
   "pygments_lexer": "ipython3",
   "version": "3.8.5"
  }
 },
 "nbformat": 4,
 "nbformat_minor": 4
}
