{
 "cells": [
  {
   "cell_type": "code",
   "execution_count": 67,
   "metadata": {},
   "outputs": [],
   "source": [
    "import pandas as pd\n",
    "import matplotlib.pyplot as plt\n",
    "import plotly.express as px"
   ]
  },
  {
   "cell_type": "code",
   "execution_count": 2,
   "metadata": {},
   "outputs": [],
   "source": [
    "df = pd.read_excel('Athletes.xlsx')"
   ]
  },
  {
   "cell_type": "code",
   "execution_count": 3,
   "metadata": {},
   "outputs": [
    {
     "data": {
      "text/html": [
       "<div>\n",
       "<style scoped>\n",
       "    .dataframe tbody tr th:only-of-type {\n",
       "        vertical-align: middle;\n",
       "    }\n",
       "\n",
       "    .dataframe tbody tr th {\n",
       "        vertical-align: top;\n",
       "    }\n",
       "\n",
       "    .dataframe thead th {\n",
       "        text-align: right;\n",
       "    }\n",
       "</style>\n",
       "<table border=\"1\" class=\"dataframe\">\n",
       "  <thead>\n",
       "    <tr style=\"text-align: right;\">\n",
       "      <th></th>\n",
       "      <th>Name</th>\n",
       "      <th>Country</th>\n",
       "      <th>Discipline</th>\n",
       "    </tr>\n",
       "  </thead>\n",
       "  <tbody>\n",
       "    <tr>\n",
       "      <th>0</th>\n",
       "      <td>AALERUD Katrine</td>\n",
       "      <td>Norway</td>\n",
       "      <td>Cycling Road</td>\n",
       "    </tr>\n",
       "    <tr>\n",
       "      <th>1</th>\n",
       "      <td>ABAD Nestor</td>\n",
       "      <td>Spain</td>\n",
       "      <td>Artistic Gymnastics</td>\n",
       "    </tr>\n",
       "    <tr>\n",
       "      <th>2</th>\n",
       "      <td>ABAGNALE Giovanni</td>\n",
       "      <td>Italy</td>\n",
       "      <td>Rowing</td>\n",
       "    </tr>\n",
       "    <tr>\n",
       "      <th>3</th>\n",
       "      <td>ABALDE Alberto</td>\n",
       "      <td>Spain</td>\n",
       "      <td>Basketball</td>\n",
       "    </tr>\n",
       "    <tr>\n",
       "      <th>4</th>\n",
       "      <td>ABALDE Tamara</td>\n",
       "      <td>Spain</td>\n",
       "      <td>Basketball</td>\n",
       "    </tr>\n",
       "  </tbody>\n",
       "</table>\n",
       "</div>"
      ],
      "text/plain": [
       "                Name Country           Discipline\n",
       "0    AALERUD Katrine  Norway         Cycling Road\n",
       "1        ABAD Nestor   Spain  Artistic Gymnastics\n",
       "2  ABAGNALE Giovanni   Italy               Rowing\n",
       "3     ABALDE Alberto   Spain           Basketball\n",
       "4      ABALDE Tamara   Spain           Basketball"
      ]
     },
     "execution_count": 3,
     "metadata": {},
     "output_type": "execute_result"
    }
   ],
   "source": [
    "df.head()"
   ]
  },
  {
   "cell_type": "code",
   "execution_count": 25,
   "metadata": {},
   "outputs": [
    {
     "data": {
      "text/html": [
       "<div>\n",
       "<style scoped>\n",
       "    .dataframe tbody tr th:only-of-type {\n",
       "        vertical-align: middle;\n",
       "    }\n",
       "\n",
       "    .dataframe tbody tr th {\n",
       "        vertical-align: top;\n",
       "    }\n",
       "\n",
       "    .dataframe thead th {\n",
       "        text-align: right;\n",
       "    }\n",
       "</style>\n",
       "<table border=\"1\" class=\"dataframe\">\n",
       "  <thead>\n",
       "    <tr style=\"text-align: right;\">\n",
       "      <th></th>\n",
       "      <th>Name</th>\n",
       "      <th>Country</th>\n",
       "      <th>Discipline</th>\n",
       "    </tr>\n",
       "  </thead>\n",
       "  <tbody>\n",
       "    <tr>\n",
       "      <th>83</th>\n",
       "      <td>ACOSTA GIRALDO Valentina</td>\n",
       "      <td>Colombia</td>\n",
       "      <td>Archery</td>\n",
       "    </tr>\n",
       "    <tr>\n",
       "      <th>137</th>\n",
       "      <td>AGUILAR Evelis Jazmin</td>\n",
       "      <td>Colombia</td>\n",
       "      <td>Athletics</td>\n",
       "    </tr>\n",
       "    <tr>\n",
       "      <th>323</th>\n",
       "      <td>ALVAREZ PIEDRAHITA Estefania</td>\n",
       "      <td>Colombia</td>\n",
       "      <td>Artistic Swimming</td>\n",
       "    </tr>\n",
       "    <tr>\n",
       "      <th>484</th>\n",
       "      <td>ARANGO ESTRADA Monica</td>\n",
       "      <td>Colombia</td>\n",
       "      <td>Artistic Swimming</td>\n",
       "    </tr>\n",
       "    <tr>\n",
       "      <th>494</th>\n",
       "      <td>ARCILA HURTADO Isabella</td>\n",
       "      <td>Colombia</td>\n",
       "      <td>Swimming</td>\n",
       "    </tr>\n",
       "    <tr>\n",
       "      <th>...</th>\n",
       "      <td>...</td>\n",
       "      <td>...</td>\n",
       "      <td>...</td>\n",
       "    </tr>\n",
       "    <tr>\n",
       "      <th>9988</th>\n",
       "      <td>URRUTIA Yosiris</td>\n",
       "      <td>Colombia</td>\n",
       "      <td>Athletics</td>\n",
       "    </tr>\n",
       "    <tr>\n",
       "      <th>10025</th>\n",
       "      <td>VALENCIA VICTORIA Ingrit Lorena</td>\n",
       "      <td>Colombia</td>\n",
       "      <td>Boxing</td>\n",
       "    </tr>\n",
       "    <tr>\n",
       "      <th>10090</th>\n",
       "      <td>van ERVEN GARCIA Saskia Loretta</td>\n",
       "      <td>Colombia</td>\n",
       "      <td>Fencing</td>\n",
       "    </tr>\n",
       "    <tr>\n",
       "      <th>10283</th>\n",
       "      <td>VIVAS PALACIOS Jorge Luis</td>\n",
       "      <td>Colombia</td>\n",
       "      <td>Boxing</td>\n",
       "    </tr>\n",
       "    <tr>\n",
       "      <th>10934</th>\n",
       "      <td>ZAMBRANO Anthony Jose</td>\n",
       "      <td>Colombia</td>\n",
       "      <td>Athletics</td>\n",
       "    </tr>\n",
       "  </tbody>\n",
       "</table>\n",
       "<p>64 rows × 3 columns</p>\n",
       "</div>"
      ],
      "text/plain": [
       "                                  Name   Country         Discipline\n",
       "83            ACOSTA GIRALDO Valentina  Colombia            Archery\n",
       "137              AGUILAR Evelis Jazmin  Colombia          Athletics\n",
       "323       ALVAREZ PIEDRAHITA Estefania  Colombia  Artistic Swimming\n",
       "484              ARANGO ESTRADA Monica  Colombia  Artistic Swimming\n",
       "494            ARCILA HURTADO Isabella  Colombia           Swimming\n",
       "...                                ...       ...                ...\n",
       "9988                   URRUTIA Yosiris  Colombia          Athletics\n",
       "10025  VALENCIA VICTORIA Ingrit Lorena  Colombia             Boxing\n",
       "10090  van ERVEN GARCIA Saskia Loretta  Colombia            Fencing\n",
       "10283        VIVAS PALACIOS Jorge Luis  Colombia             Boxing\n",
       "10934            ZAMBRANO Anthony Jose  Colombia          Athletics\n",
       "\n",
       "[64 rows x 3 columns]"
      ]
     },
     "execution_count": 25,
     "metadata": {},
     "output_type": "execute_result"
    }
   ],
   "source": [
    "df[df['Country'] == \"Colombia\"]\n"
   ]
  },
  {
   "cell_type": "code",
   "execution_count": 26,
   "metadata": {},
   "outputs": [
    {
     "data": {
      "text/html": [
       "<div>\n",
       "<style scoped>\n",
       "    .dataframe tbody tr th:only-of-type {\n",
       "        vertical-align: middle;\n",
       "    }\n",
       "\n",
       "    .dataframe tbody tr th {\n",
       "        vertical-align: top;\n",
       "    }\n",
       "\n",
       "    .dataframe thead th {\n",
       "        text-align: right;\n",
       "    }\n",
       "</style>\n",
       "<table border=\"1\" class=\"dataframe\">\n",
       "  <thead>\n",
       "    <tr style=\"text-align: right;\">\n",
       "      <th></th>\n",
       "      <th>Name</th>\n",
       "      <th>Country</th>\n",
       "      <th>Discipline</th>\n",
       "    </tr>\n",
       "  </thead>\n",
       "  <tbody>\n",
       "    <tr>\n",
       "      <th>count</th>\n",
       "      <td>155</td>\n",
       "      <td>155</td>\n",
       "      <td>155</td>\n",
       "    </tr>\n",
       "    <tr>\n",
       "      <th>unique</th>\n",
       "      <td>155</td>\n",
       "      <td>1</td>\n",
       "      <td>31</td>\n",
       "    </tr>\n",
       "    <tr>\n",
       "      <th>top</th>\n",
       "      <td>PEREZ Cecilia</td>\n",
       "      <td>Mexico</td>\n",
       "      <td>Baseball/Softball</td>\n",
       "    </tr>\n",
       "    <tr>\n",
       "      <th>freq</th>\n",
       "      <td>1</td>\n",
       "      <td>155</td>\n",
       "      <td>37</td>\n",
       "    </tr>\n",
       "  </tbody>\n",
       "</table>\n",
       "</div>"
      ],
      "text/plain": [
       "                 Name Country         Discipline\n",
       "count             155     155                155\n",
       "unique            155       1                 31\n",
       "top     PEREZ Cecilia  Mexico  Baseball/Softball\n",
       "freq                1     155                 37"
      ]
     },
     "execution_count": 26,
     "metadata": {},
     "output_type": "execute_result"
    }
   ],
   "source": [
    "df[df['Country'] == \"Mexico\"].describe()"
   ]
  },
  {
   "cell_type": "code",
   "execution_count": 30,
   "metadata": {},
   "outputs": [
    {
     "data": {
      "text/html": [
       "<div>\n",
       "<style scoped>\n",
       "    .dataframe tbody tr th:only-of-type {\n",
       "        vertical-align: middle;\n",
       "    }\n",
       "\n",
       "    .dataframe tbody tr th {\n",
       "        vertical-align: top;\n",
       "    }\n",
       "\n",
       "    .dataframe thead th {\n",
       "        text-align: right;\n",
       "    }\n",
       "</style>\n",
       "<table border=\"1\" class=\"dataframe\">\n",
       "  <thead>\n",
       "    <tr style=\"text-align: right;\">\n",
       "      <th></th>\n",
       "      <th>Name</th>\n",
       "      <th>Country</th>\n",
       "      <th>Discipline</th>\n",
       "    </tr>\n",
       "  </thead>\n",
       "  <tbody>\n",
       "    <tr>\n",
       "      <th>4035</th>\n",
       "      <td>HORTA ACEVEDO Julian Stiven</td>\n",
       "      <td>Colombia</td>\n",
       "      <td>Wrestling</td>\n",
       "    </tr>\n",
       "    <tr>\n",
       "      <th>9703</th>\n",
       "      <td>TIGREROS URBANO Oscar Eduardo</td>\n",
       "      <td>Colombia</td>\n",
       "      <td>Wrestling</td>\n",
       "    </tr>\n",
       "    <tr>\n",
       "      <th>4313</th>\n",
       "      <td>IZQUIERDO MENDEZ Carlos Arturo</td>\n",
       "      <td>Colombia</td>\n",
       "      <td>Wrestling</td>\n",
       "    </tr>\n",
       "    <tr>\n",
       "      <th>6666</th>\n",
       "      <td>MOSQUERA LOZANO Luis Javier</td>\n",
       "      <td>Colombia</td>\n",
       "      <td>Weightlifting</td>\n",
       "    </tr>\n",
       "    <tr>\n",
       "      <th>7604</th>\n",
       "      <td>PEREZ TIGRERO Mercedes Isabel</td>\n",
       "      <td>Colombia</td>\n",
       "      <td>Weightlifting</td>\n",
       "    </tr>\n",
       "    <tr>\n",
       "      <th>...</th>\n",
       "      <td>...</td>\n",
       "      <td>...</td>\n",
       "      <td>...</td>\n",
       "    </tr>\n",
       "    <tr>\n",
       "      <th>7615</th>\n",
       "      <td>PERLAZA Jhon Alejandro</td>\n",
       "      <td>Colombia</td>\n",
       "      <td>Athletics</td>\n",
       "    </tr>\n",
       "    <tr>\n",
       "      <th>484</th>\n",
       "      <td>ARANGO ESTRADA Monica</td>\n",
       "      <td>Colombia</td>\n",
       "      <td>Artistic Swimming</td>\n",
       "    </tr>\n",
       "    <tr>\n",
       "      <th>323</th>\n",
       "      <td>ALVAREZ PIEDRAHITA Estefania</td>\n",
       "      <td>Colombia</td>\n",
       "      <td>Artistic Swimming</td>\n",
       "    </tr>\n",
       "    <tr>\n",
       "      <th>7727</th>\n",
       "      <td>PINEDA Daniel Felipe</td>\n",
       "      <td>Colombia</td>\n",
       "      <td>Archery</td>\n",
       "    </tr>\n",
       "    <tr>\n",
       "      <th>83</th>\n",
       "      <td>ACOSTA GIRALDO Valentina</td>\n",
       "      <td>Colombia</td>\n",
       "      <td>Archery</td>\n",
       "    </tr>\n",
       "  </tbody>\n",
       "</table>\n",
       "<p>64 rows × 3 columns</p>\n",
       "</div>"
      ],
      "text/plain": [
       "                                Name   Country         Discipline\n",
       "4035     HORTA ACEVEDO Julian Stiven  Colombia          Wrestling\n",
       "9703   TIGREROS URBANO Oscar Eduardo  Colombia          Wrestling\n",
       "4313  IZQUIERDO MENDEZ Carlos Arturo  Colombia          Wrestling\n",
       "6666     MOSQUERA LOZANO Luis Javier  Colombia      Weightlifting\n",
       "7604   PEREZ TIGRERO Mercedes Isabel  Colombia      Weightlifting\n",
       "...                              ...       ...                ...\n",
       "7615          PERLAZA Jhon Alejandro  Colombia          Athletics\n",
       "484            ARANGO ESTRADA Monica  Colombia  Artistic Swimming\n",
       "323     ALVAREZ PIEDRAHITA Estefania  Colombia  Artistic Swimming\n",
       "7727            PINEDA Daniel Felipe  Colombia            Archery\n",
       "83          ACOSTA GIRALDO Valentina  Colombia            Archery\n",
       "\n",
       "[64 rows x 3 columns]"
      ]
     },
     "execution_count": 30,
     "metadata": {},
     "output_type": "execute_result"
    }
   ],
   "source": [
    "df[df['Country'] == \"Colombia\"].sort_values('Discipline', ascending=False)"
   ]
  },
  {
   "cell_type": "code",
   "execution_count": 41,
   "metadata": {},
   "outputs": [
    {
     "data": {
      "text/html": [
       "<div>\n",
       "<style scoped>\n",
       "    .dataframe tbody tr th:only-of-type {\n",
       "        vertical-align: middle;\n",
       "    }\n",
       "\n",
       "    .dataframe tbody tr th {\n",
       "        vertical-align: top;\n",
       "    }\n",
       "\n",
       "    .dataframe thead th {\n",
       "        text-align: right;\n",
       "    }\n",
       "</style>\n",
       "<table border=\"1\" class=\"dataframe\">\n",
       "  <thead>\n",
       "    <tr style=\"text-align: right;\">\n",
       "      <th></th>\n",
       "      <th>Name</th>\n",
       "      <th>Country</th>\n",
       "    </tr>\n",
       "    <tr>\n",
       "      <th>Discipline</th>\n",
       "      <th></th>\n",
       "      <th></th>\n",
       "    </tr>\n",
       "  </thead>\n",
       "  <tbody>\n",
       "    <tr>\n",
       "      <th>Archery</th>\n",
       "      <td>2</td>\n",
       "      <td>2</td>\n",
       "    </tr>\n",
       "    <tr>\n",
       "      <th>Artistic Swimming</th>\n",
       "      <td>2</td>\n",
       "      <td>2</td>\n",
       "    </tr>\n",
       "    <tr>\n",
       "      <th>Athletics</th>\n",
       "      <td>24</td>\n",
       "      <td>24</td>\n",
       "    </tr>\n",
       "    <tr>\n",
       "      <th>Boxing</th>\n",
       "      <td>6</td>\n",
       "      <td>6</td>\n",
       "    </tr>\n",
       "    <tr>\n",
       "      <th>Cycling BMX Racing</th>\n",
       "      <td>2</td>\n",
       "      <td>2</td>\n",
       "    </tr>\n",
       "    <tr>\n",
       "      <th>Cycling Road</th>\n",
       "      <td>5</td>\n",
       "      <td>5</td>\n",
       "    </tr>\n",
       "    <tr>\n",
       "      <th>Cycling Track</th>\n",
       "      <td>1</td>\n",
       "      <td>1</td>\n",
       "    </tr>\n",
       "    <tr>\n",
       "      <th>Diving</th>\n",
       "      <td>2</td>\n",
       "      <td>2</td>\n",
       "    </tr>\n",
       "    <tr>\n",
       "      <th>Equestrian</th>\n",
       "      <td>1</td>\n",
       "      <td>1</td>\n",
       "    </tr>\n",
       "    <tr>\n",
       "      <th>Fencing</th>\n",
       "      <td>1</td>\n",
       "      <td>1</td>\n",
       "    </tr>\n",
       "    <tr>\n",
       "      <th>Golf</th>\n",
       "      <td>2</td>\n",
       "      <td>2</td>\n",
       "    </tr>\n",
       "    <tr>\n",
       "      <th>Shooting</th>\n",
       "      <td>1</td>\n",
       "      <td>1</td>\n",
       "    </tr>\n",
       "    <tr>\n",
       "      <th>Skateboarding</th>\n",
       "      <td>1</td>\n",
       "      <td>1</td>\n",
       "    </tr>\n",
       "    <tr>\n",
       "      <th>Swimming</th>\n",
       "      <td>2</td>\n",
       "      <td>2</td>\n",
       "    </tr>\n",
       "    <tr>\n",
       "      <th>Taekwondo</th>\n",
       "      <td>2</td>\n",
       "      <td>2</td>\n",
       "    </tr>\n",
       "    <tr>\n",
       "      <th>Tennis</th>\n",
       "      <td>3</td>\n",
       "      <td>3</td>\n",
       "    </tr>\n",
       "    <tr>\n",
       "      <th>Trampoline Gymnastics</th>\n",
       "      <td>1</td>\n",
       "      <td>1</td>\n",
       "    </tr>\n",
       "    <tr>\n",
       "      <th>Weightlifting</th>\n",
       "      <td>3</td>\n",
       "      <td>3</td>\n",
       "    </tr>\n",
       "    <tr>\n",
       "      <th>Wrestling</th>\n",
       "      <td>3</td>\n",
       "      <td>3</td>\n",
       "    </tr>\n",
       "  </tbody>\n",
       "</table>\n",
       "</div>"
      ],
      "text/plain": [
       "                       Name  Country\n",
       "Discipline                          \n",
       "Archery                   2        2\n",
       "Artistic Swimming         2        2\n",
       "Athletics                24       24\n",
       "Boxing                    6        6\n",
       "Cycling BMX Racing        2        2\n",
       "Cycling Road              5        5\n",
       "Cycling Track             1        1\n",
       "Diving                    2        2\n",
       "Equestrian                1        1\n",
       "Fencing                   1        1\n",
       "Golf                      2        2\n",
       "Shooting                  1        1\n",
       "Skateboarding             1        1\n",
       "Swimming                  2        2\n",
       "Taekwondo                 2        2\n",
       "Tennis                    3        3\n",
       "Trampoline Gymnastics     1        1\n",
       "Weightlifting             3        3\n",
       "Wrestling                 3        3"
      ]
     },
     "execution_count": 41,
     "metadata": {},
     "output_type": "execute_result"
    }
   ],
   "source": [
    "conteo =df[df['Country'] == \"Colombia\"].groupby('Discipline').count()\n",
    "conteo"
   ]
  },
  {
   "cell_type": "code",
   "execution_count": 32,
   "metadata": {},
   "outputs": [
    {
     "data": {
      "text/plain": [
       "([<matplotlib.patches.Wedge at 0x201f9cfa1f0>,\n",
       "  <matplotlib.patches.Wedge at 0x201f9cfa670>,\n",
       "  <matplotlib.patches.Wedge at 0x201f9cfaaf0>,\n",
       "  <matplotlib.patches.Wedge at 0x201f9cfaf70>,\n",
       "  <matplotlib.patches.Wedge at 0x201f9d03430>,\n",
       "  <matplotlib.patches.Wedge at 0x201f9d038b0>,\n",
       "  <matplotlib.patches.Wedge at 0x201f9d03d30>,\n",
       "  <matplotlib.patches.Wedge at 0x201f9d0e1f0>,\n",
       "  <matplotlib.patches.Wedge at 0x201f9d0e670>,\n",
       "  <matplotlib.patches.Wedge at 0x201f9d0eaf0>,\n",
       "  <matplotlib.patches.Wedge at 0x201f9cdedf0>,\n",
       "  <matplotlib.patches.Wedge at 0x201f9d18430>,\n",
       "  <matplotlib.patches.Wedge at 0x201f9d188b0>,\n",
       "  <matplotlib.patches.Wedge at 0x201f9d18d30>,\n",
       "  <matplotlib.patches.Wedge at 0x201f9d231f0>,\n",
       "  <matplotlib.patches.Wedge at 0x201f9d23670>,\n",
       "  <matplotlib.patches.Wedge at 0x201f9d23af0>,\n",
       "  <matplotlib.patches.Wedge at 0x201f9d23f70>,\n",
       "  <matplotlib.patches.Wedge at 0x201f9d2c430>],\n",
       " [Text(1.0947031993394167, 0.10781885436251668, 'Archery'),\n",
       "  Text(1.0526343693054299, 0.3193131449799086, 'Artistic Swimming'),\n",
       "  Text(6.735557395310444e-17, 1.1, 'Athletics'),\n",
       "  Text(-1.0947031993394165, 0.10781885436251691, 'Boxing'),\n",
       "  Text(-1.0526343693054299, -0.31931314497990837, 'Cycling BMX Racing'),\n",
       "  Text(-0.8835282846287095, -0.6552692349416767, 'Cycling Road'),\n",
       "  Text(-0.6552692349416765, -0.8835282846287096, 'Cycling Track'),\n",
       "  Text(-0.5185364105085977, -0.9701133907831905, 'Diving'),\n",
       "  Text(-0.370578838731442, -1.035698471701323, 'Equestrian'),\n",
       "  Text(-0.26727819789359053, -1.0670343785139984, 'Fencing'),\n",
       "  Text(-0.10781885436251651, -1.0947031993394167, 'Golf'),\n",
       "  Text(0.05397444176015943, -1.0986750018256897, 'Shooting'),\n",
       "  Text(0.16140352190089816, -1.088094160961259, 'Skateboarding'),\n",
       "  Text(0.31931314497990826, -1.0526343693054299, 'Swimming'),\n",
       "  Text(0.5185364105085973, -0.9701133907831906, 'Taekwondo'),\n",
       "  Text(0.7387148503317202, -0.815046237890455, 'Tennis'),\n",
       "  Text(0.8835282846287096, -0.6552692349416767, 'Trampoline Gymnastics'),\n",
       "  Text(0.9943882224357875, -0.4703106027733108, 'Weightlifting'),\n",
       "  Text(1.088094160961259, -0.16140352190089863, 'Wrestling')])"
      ]
     },
     "execution_count": 32,
     "metadata": {},
     "output_type": "execute_result"
    },
    {
     "data": {
      "image/png": "[encoded data removed]",
      "text/plain": [
       "<Figure size 720x720 with 1 Axes>"
      ]
     },
     "metadata": {},
     "output_type": "display_data"
    }
   ],
   "source": [
    "plt.figure(figsize=(10,10))\n",
    "plt.pie(conteo['Name'], labels=conteo.index.values)"
   ]
  },
  {
   "cell_type": "code",
   "execution_count": 34,
   "metadata": {},
   "outputs": [
    {
     "data": {
      "text/plain": [
       "pandas.core.series.Series"
      ]
     },
     "execution_count": 34,
     "metadata": {},
     "output_type": "execute_result"
    }
   ],
   "source": [
    "type(conteo['Name'])"
   ]
  },
  {
   "cell_type": "code",
   "execution_count": 39,
   "metadata": {},
   "outputs": [
    {
     "data": {
      "text/html": [
       "<div>\n",
       "<style scoped>\n",
       "    .dataframe tbody tr th:only-of-type {\n",
       "        vertical-align: middle;\n",
       "    }\n",
       "\n",
       "    .dataframe tbody tr th {\n",
       "        vertical-align: top;\n",
       "    }\n",
       "\n",
       "    .dataframe thead th {\n",
       "        text-align: right;\n",
       "    }\n",
       "</style>\n",
       "<table border=\"1\" class=\"dataframe\">\n",
       "  <thead>\n",
       "    <tr style=\"text-align: right;\">\n",
       "      <th></th>\n",
       "      <th>Name</th>\n",
       "      <th>Discipline</th>\n",
       "    </tr>\n",
       "    <tr>\n",
       "      <th>Country</th>\n",
       "      <th></th>\n",
       "      <th></th>\n",
       "    </tr>\n",
       "  </thead>\n",
       "  <tbody>\n",
       "    <tr>\n",
       "      <th>Afghanistan</th>\n",
       "      <td>5</td>\n",
       "      <td>5</td>\n",
       "    </tr>\n",
       "    <tr>\n",
       "      <th>Albania</th>\n",
       "      <td>8</td>\n",
       "      <td>8</td>\n",
       "    </tr>\n",
       "    <tr>\n",
       "      <th>Algeria</th>\n",
       "      <td>41</td>\n",
       "      <td>41</td>\n",
       "    </tr>\n",
       "    <tr>\n",
       "      <th>American Samoa</th>\n",
       "      <td>5</td>\n",
       "      <td>5</td>\n",
       "    </tr>\n",
       "    <tr>\n",
       "      <th>Andorra</th>\n",
       "      <td>2</td>\n",
       "      <td>2</td>\n",
       "    </tr>\n",
       "    <tr>\n",
       "      <th>...</th>\n",
       "      <td>...</td>\n",
       "      <td>...</td>\n",
       "    </tr>\n",
       "    <tr>\n",
       "      <th>Virgin Islands, British</th>\n",
       "      <td>3</td>\n",
       "      <td>3</td>\n",
       "    </tr>\n",
       "    <tr>\n",
       "      <th>Virgin Islands, US</th>\n",
       "      <td>4</td>\n",
       "      <td>4</td>\n",
       "    </tr>\n",
       "    <tr>\n",
       "      <th>Yemen</th>\n",
       "      <td>3</td>\n",
       "      <td>3</td>\n",
       "    </tr>\n",
       "    <tr>\n",
       "      <th>Zambia</th>\n",
       "      <td>29</td>\n",
       "      <td>29</td>\n",
       "    </tr>\n",
       "    <tr>\n",
       "      <th>Zimbabwe</th>\n",
       "      <td>5</td>\n",
       "      <td>5</td>\n",
       "    </tr>\n",
       "  </tbody>\n",
       "</table>\n",
       "<p>206 rows × 2 columns</p>\n",
       "</div>"
      ],
      "text/plain": [
       "                         Name  Discipline\n",
       "Country                                  \n",
       "Afghanistan                 5           5\n",
       "Albania                     8           8\n",
       "Algeria                    41          41\n",
       "American Samoa              5           5\n",
       "Andorra                     2           2\n",
       "...                       ...         ...\n",
       "Virgin Islands, British     3           3\n",
       "Virgin Islands, US          4           4\n",
       "Yemen                       3           3\n",
       "Zambia                     29          29\n",
       "Zimbabwe                    5           5\n",
       "\n",
       "[206 rows x 2 columns]"
      ]
     },
     "execution_count": 39,
     "metadata": {},
     "output_type": "execute_result"
    }
   ],
   "source": [
    "conteoMundial = df.groupby('Country').count()\n",
    "conteoMundial"
   ]
  },
  {
   "cell_type": "code",
   "execution_count": 40,
   "metadata": {},
   "outputs": [
    {
     "data": {
      "text/plain": [
       "([<matplotlib.patches.Wedge at 0x201fa04a160>,\n",
       "  <matplotlib.patches.Wedge at 0x201fa04a640>,\n",
       "  <matplotlib.patches.Wedge at 0x201fa04aac0>,\n",
       "  <matplotlib.patches.Wedge at 0x201fa04af40>,\n",
       "  <matplotlib.patches.Wedge at 0x201fa053430>,\n",
       "  <matplotlib.patches.Wedge at 0x201fa0538b0>,\n",
       "  <matplotlib.patches.Wedge at 0x201fa053d30>,\n",
       "  <matplotlib.patches.Wedge at 0x201fa05d1f0>,\n",
       "  <matplotlib.patches.Wedge at 0x201fa05d670>,\n",
       "  <matplotlib.patches.Wedge at 0x201fa05daf0>,\n",
       "  <matplotlib.patches.Wedge at 0x201f9d409d0>,\n",
       "  <matplotlib.patches.Wedge at 0x201fa069400>,\n",
       "  <matplotlib.patches.Wedge at 0x201fa069880>,\n",
       "  <matplotlib.patches.Wedge at 0x201fa069d00>,\n",
       "  <matplotlib.patches.Wedge at 0x201fa0731c0>,\n",
       "  <matplotlib.patches.Wedge at 0x201fa073640>,\n",
       "  <matplotlib.patches.Wedge at 0x201fa073ac0>,\n",
       "  <matplotlib.patches.Wedge at 0x201fa073f40>,\n",
       "  <matplotlib.patches.Wedge at 0x201fa07c400>,\n",
       "  <matplotlib.patches.Wedge at 0x201fa07c880>,\n",
       "  <matplotlib.patches.Wedge at 0x201fa07cd00>,\n",
       "  <matplotlib.patches.Wedge at 0x201fa0881c0>,\n",
       "  <matplotlib.patches.Wedge at 0x201fa088640>,\n",
       "  <matplotlib.patches.Wedge at 0x201fa088ac0>,\n",
       "  <matplotlib.patches.Wedge at 0x201fa088f40>,\n",
       "  <matplotlib.patches.Wedge at 0x201fa091430>,\n",
       "  <matplotlib.patches.Wedge at 0x201fa0918b0>,\n",
       "  <matplotlib.patches.Wedge at 0x201fa091d30>,\n",
       "  <matplotlib.patches.Wedge at 0x201fa09b220>,\n",
       "  <matplotlib.patches.Wedge at 0x201fa09b6a0>,\n",
       "  <matplotlib.patches.Wedge at 0x201fa09bb20>,\n",
       "  <matplotlib.patches.Wedge at 0x201fa09bfa0>,\n",
       "  <matplotlib.patches.Wedge at 0x201fa0a4460>,\n",
       "  <matplotlib.patches.Wedge at 0x201fa0a48e0>,\n",
       "  <matplotlib.patches.Wedge at 0x201fa0a4d60>,\n",
       "  <matplotlib.patches.Wedge at 0x201fa0af220>,\n",
       "  <matplotlib.patches.Wedge at 0x201fa0af6a0>,\n",
       "  <matplotlib.patches.Wedge at 0x201fa0afb20>,\n",
       "  <matplotlib.patches.Wedge at 0x201fa0affa0>,\n",
       "  <matplotlib.patches.Wedge at 0x201fa0ba460>,\n",
       "  <matplotlib.patches.Wedge at 0x201fa0ba8e0>,\n",
       "  <matplotlib.patches.Wedge at 0x201fa0bad60>,\n",
       "  <matplotlib.patches.Wedge at 0x201fa0c4220>,\n",
       "  <matplotlib.patches.Wedge at 0x201fa0c46a0>,\n",
       "  <matplotlib.patches.Wedge at 0x201fa0c4b20>,\n",
       "  <matplotlib.patches.Wedge at 0x201fa0c4fa0>,\n",
       "  <matplotlib.patches.Wedge at 0x201fa0cc460>,\n",
       "  <matplotlib.patches.Wedge at 0x201fa0cc8e0>,\n",
       "  <matplotlib.patches.Wedge at 0x201fa0ccd60>,\n",
       "  <matplotlib.patches.Wedge at 0x201fa0d7220>,\n",
       "  <matplotlib.patches.Wedge at 0x201fa0d76a0>,\n",
       "  <matplotlib.patches.Wedge at 0x201fa0d7b20>,\n",
       "  <matplotlib.patches.Wedge at 0x201fa0d7fa0>,\n",
       "  <matplotlib.patches.Wedge at 0x201fa0e2460>,\n",
       "  <matplotlib.patches.Wedge at 0x201fa0e28e0>,\n",
       "  <matplotlib.patches.Wedge at 0x201fa0e2d90>,\n",
       "  <matplotlib.patches.Wedge at 0x201fa0ec250>,\n",
       "  <matplotlib.patches.Wedge at 0x201fa0ec6d0>,\n",
       "  <matplotlib.patches.Wedge at 0x201fa0ecb50>,\n",
       "  <matplotlib.patches.Wedge at 0x201fa0ecfd0>,\n",
       "  <matplotlib.patches.Wedge at 0x201fa0f6490>,\n",
       "  <matplotlib.patches.Wedge at 0x201fa0f6910>,\n",
       "  <matplotlib.patches.Wedge at 0x201fa0f6d90>,\n",
       "  <matplotlib.patches.Wedge at 0x201fb590250>,\n",
       "  <matplotlib.patches.Wedge at 0x201fb5906d0>,\n",
       "  <matplotlib.patches.Wedge at 0x201fb590b50>,\n",
       "  <matplotlib.patches.Wedge at 0x201fb590fd0>,\n",
       "  <matplotlib.patches.Wedge at 0x201fb59a490>,\n",
       "  <matplotlib.patches.Wedge at 0x201fb59a910>,\n",
       "  <matplotlib.patches.Wedge at 0x201fb59ad90>,\n",
       "  <matplotlib.patches.Wedge at 0x201fb5a4250>,\n",
       "  <matplotlib.patches.Wedge at 0x201fb5a46d0>,\n",
       "  <matplotlib.patches.Wedge at 0x201fb5a4b50>,\n",
       "  <matplotlib.patches.Wedge at 0x201fb5a4fd0>,\n",
       "  <matplotlib.patches.Wedge at 0x201fb5af490>,\n",
       "  <matplotlib.patches.Wedge at 0x201fb5af910>,\n",
       "  <matplotlib.patches.Wedge at 0x201fb5afd90>,\n",
       "  <matplotlib.patches.Wedge at 0x201fb5b9250>,\n",
       "  <matplotlib.patches.Wedge at 0x201fb5b9700>,\n",
       "  <matplotlib.patches.Wedge at 0x201fb5b9b80>,\n",
       "  <matplotlib.patches.Wedge at 0x201fb5b9fa0>,\n",
       "  <matplotlib.patches.Wedge at 0x201fb5c34c0>,\n",
       "  <matplotlib.patches.Wedge at 0x201fb5c3940>,\n",
       "  <matplotlib.patches.Wedge at 0x201fb5c3dc0>,\n",
       "  <matplotlib.patches.Wedge at 0x201fb5cc280>,\n",
       "  <matplotlib.patches.Wedge at 0x201fb5cc700>,\n",
       "  <matplotlib.patches.Wedge at 0x201fb5ccb80>,\n",
       "  <matplotlib.patches.Wedge at 0x201fb5ccfd0>,\n",
       "  <matplotlib.patches.Wedge at 0x201fb5d64f0>,\n",
       "  <matplotlib.patches.Wedge at 0x201fb5d6970>,\n",
       "  <matplotlib.patches.Wedge at 0x201fb5d6df0>,\n",
       "  <matplotlib.patches.Wedge at 0x201fb5e02b0>,\n",
       "  <matplotlib.patches.Wedge at 0x201fb5e0730>,\n",
       "  <matplotlib.patches.Wedge at 0x201fb5e0bb0>,\n",
       "  <matplotlib.patches.Wedge at 0x201fb5e0fd0>,\n",
       "  <matplotlib.patches.Wedge at 0x201fb5eb4f0>,\n",
       "  <matplotlib.patches.Wedge at 0x201fb5eb970>,\n",
       "  <matplotlib.patches.Wedge at 0x201fb5ebdf0>,\n",
       "  <matplotlib.patches.Wedge at 0x201fb5f62b0>,\n",
       "  <matplotlib.patches.Wedge at 0x201fb5f6730>,\n",
       "  <matplotlib.patches.Wedge at 0x201fb5f6bb0>,\n",
       "  <matplotlib.patches.Wedge at 0x201fb5f6fd0>,\n",
       "  <matplotlib.patches.Wedge at 0x201fb6004f0>,\n",
       "  <matplotlib.patches.Wedge at 0x201fb600970>,\n",
       "  <matplotlib.patches.Wedge at 0x201fb600df0>,\n",
       "  <matplotlib.patches.Wedge at 0x201fb6082b0>,\n",
       "  <matplotlib.patches.Wedge at 0x201fb608730>,\n",
       "  <matplotlib.patches.Wedge at 0x201fb608bb0>,\n",
       "  <matplotlib.patches.Wedge at 0x201fb608fd0>,\n",
       "  <matplotlib.patches.Wedge at 0x201fb6134f0>,\n",
       "  <matplotlib.patches.Wedge at 0x201fb613970>,\n",
       "  <matplotlib.patches.Wedge at 0x201fb613df0>,\n",
       "  <matplotlib.patches.Wedge at 0x201fb61d2b0>,\n",
       "  <matplotlib.patches.Wedge at 0x201fb61d730>,\n",
       "  <matplotlib.patches.Wedge at 0x201fb61dbb0>,\n",
       "  <matplotlib.patches.Wedge at 0x201fb61dfd0>,\n",
       "  <matplotlib.patches.Wedge at 0x201fb6284f0>,\n",
       "  <matplotlib.patches.Wedge at 0x201fb628970>,\n",
       "  <matplotlib.patches.Wedge at 0x201fb628df0>,\n",
       "  <matplotlib.patches.Wedge at 0x201fb6322b0>,\n",
       "  <matplotlib.patches.Wedge at 0x201fb632730>,\n",
       "  <matplotlib.patches.Wedge at 0x201fb632bb0>,\n",
       "  <matplotlib.patches.Wedge at 0x201fb632fd0>,\n",
       "  <matplotlib.patches.Wedge at 0x201fb63b4f0>,\n",
       "  <matplotlib.patches.Wedge at 0x201fb63b970>,\n",
       "  <matplotlib.patches.Wedge at 0x201fb63bdf0>,\n",
       "  <matplotlib.patches.Wedge at 0x201fb6462b0>,\n",
       "  <matplotlib.patches.Wedge at 0x201fb646730>,\n",
       "  <matplotlib.patches.Wedge at 0x201fb646bb0>,\n",
       "  <matplotlib.patches.Wedge at 0x201fb646fd0>,\n",
       "  <matplotlib.patches.Wedge at 0x201fb6504f0>,\n",
       "  <matplotlib.patches.Wedge at 0x201fb650970>,\n",
       "  <matplotlib.patches.Wedge at 0x201fb650df0>,\n",
       "  <matplotlib.patches.Wedge at 0x201fb65a2b0>,\n",
       "  <matplotlib.patches.Wedge at 0x201fb65a730>,\n",
       "  <matplotlib.patches.Wedge at 0x201fb65abb0>,\n",
       "  <matplotlib.patches.Wedge at 0x201fb65afd0>,\n",
       "  <matplotlib.patches.Wedge at 0x201fb6644f0>,\n",
       "  <matplotlib.patches.Wedge at 0x201fb664970>,\n",
       "  <matplotlib.patches.Wedge at 0x201fb664df0>,\n",
       "  <matplotlib.patches.Wedge at 0x201fb66e2b0>,\n",
       "  <matplotlib.patches.Wedge at 0x201fb66e730>,\n",
       "  <matplotlib.patches.Wedge at 0x201fb66ebb0>,\n",
       "  <matplotlib.patches.Wedge at 0x201fb66efd0>,\n",
       "  <matplotlib.patches.Wedge at 0x201fb6784f0>,\n",
       "  <matplotlib.patches.Wedge at 0x201fb678970>,\n",
       "  <matplotlib.patches.Wedge at 0x201fb678df0>,\n",
       "  <matplotlib.patches.Wedge at 0x201fb6822b0>,\n",
       "  <matplotlib.patches.Wedge at 0x201fb682730>,\n",
       "  <matplotlib.patches.Wedge at 0x201fb682bb0>,\n",
       "  <matplotlib.patches.Wedge at 0x201fb682fd0>,\n",
       "  <matplotlib.patches.Wedge at 0x201fb68c4f0>,\n",
       "  <matplotlib.patches.Wedge at 0x201fb68c970>,\n",
       "  <matplotlib.patches.Wedge at 0x201fb68cdf0>,\n",
       "  <matplotlib.patches.Wedge at 0x201fb6972b0>,\n",
       "  <matplotlib.patches.Wedge at 0x201fb697730>,\n",
       "  <matplotlib.patches.Wedge at 0x201fb697bb0>,\n",
       "  <matplotlib.patches.Wedge at 0x201fb697fd0>,\n",
       "  <matplotlib.patches.Wedge at 0x201fb6a14f0>,\n",
       "  <matplotlib.patches.Wedge at 0x201fb6a1970>,\n",
       "  <matplotlib.patches.Wedge at 0x201fb6a1df0>,\n",
       "  <matplotlib.patches.Wedge at 0x201fb6ab2b0>,\n",
       "  <matplotlib.patches.Wedge at 0x201fb6ab730>,\n",
       "  <matplotlib.patches.Wedge at 0x201fb6abbb0>,\n",
       "  <matplotlib.patches.Wedge at 0x201fb6abfd0>,\n",
       "  <matplotlib.patches.Wedge at 0x201fb6b54f0>,\n",
       "  <matplotlib.patches.Wedge at 0x201fb6b5970>,\n",
       "  <matplotlib.patches.Wedge at 0x201fb6b5df0>,\n",
       "  <matplotlib.patches.Wedge at 0x201fb6c02b0>,\n",
       "  <matplotlib.patches.Wedge at 0x201fb6c0730>,\n",
       "  <matplotlib.patches.Wedge at 0x201fb6c0bb0>,\n",
       "  <matplotlib.patches.Wedge at 0x201fb6c0fd0>,\n",
       "  <matplotlib.patches.Wedge at 0x201fb6c94f0>,\n",
       "  <matplotlib.patches.Wedge at 0x201fb6c9970>,\n",
       "  <matplotlib.patches.Wedge at 0x201fb6c9df0>,\n",
       "  <matplotlib.patches.Wedge at 0x201fb6d32b0>,\n",
       "  <matplotlib.patches.Wedge at 0x201fb6d3730>,\n",
       "  <matplotlib.patches.Wedge at 0x201fb6d3bb0>,\n",
       "  <matplotlib.patches.Wedge at 0x201fb6d3fd0>,\n",
       "  <matplotlib.patches.Wedge at 0x201fb6de4f0>,\n",
       "  <matplotlib.patches.Wedge at 0x201fb6de970>,\n",
       "  <matplotlib.patches.Wedge at 0x201fb6dedf0>,\n",
       "  <matplotlib.patches.Wedge at 0x201fb6e92b0>,\n",
       "  <matplotlib.patches.Wedge at 0x201fb6e9730>,\n",
       "  <matplotlib.patches.Wedge at 0x201fb6e9bb0>,\n",
       "  <matplotlib.patches.Wedge at 0x201fb6e9fd0>,\n",
       "  <matplotlib.patches.Wedge at 0x201fb6f14f0>,\n",
       "  <matplotlib.patches.Wedge at 0x201fb6f1970>,\n",
       "  <matplotlib.patches.Wedge at 0x201fb6f1df0>,\n",
       "  <matplotlib.patches.Wedge at 0x201fb6fc2b0>,\n",
       "  <matplotlib.patches.Wedge at 0x201fb6fc730>,\n",
       "  <matplotlib.patches.Wedge at 0x201fb6fcbb0>,\n",
       "  <matplotlib.patches.Wedge at 0x201fb6fcfd0>,\n",
       "  <matplotlib.patches.Wedge at 0x201fb7074f0>,\n",
       "  <matplotlib.patches.Wedge at 0x201fb707970>,\n",
       "  <matplotlib.patches.Wedge at 0x201fb707dc0>,\n",
       "  <matplotlib.patches.Wedge at 0x201fb7102e0>,\n",
       "  <matplotlib.patches.Wedge at 0x201f9b33ca0>,\n",
       "  <matplotlib.patches.Wedge at 0x201f9b35130>,\n",
       "  <matplotlib.patches.Wedge at 0x201f9017970>,\n",
       "  <matplotlib.patches.Wedge at 0x201f9c16670>,\n",
       "  <matplotlib.patches.Wedge at 0x201f9bccf70>,\n",
       "  <matplotlib.patches.Wedge at 0x201f95281f0>,\n",
       "  <matplotlib.patches.Wedge at 0x201f938f370>,\n",
       "  <matplotlib.patches.Wedge at 0x201f9391df0>,\n",
       "  <matplotlib.patches.Wedge at 0x201f9525370>],\n",
       " [Text(1.099998895588398, 0.001558750879727756, 'Afghanistan'),\n",
       "  Text(1.0999856868536655, 0.005611480826815943, 'Albania'),\n",
       "  Text(1.0998016977668879, 0.020886014197812785, 'Algeria'),\n",
       "  Text(1.0994359588160452, 0.035221761203035946, 'American Samoa'),\n",
       "  Text(1.0993639200903351, 0.03740282347111501, 'Andorra'),\n",
       "  Text(1.099109345807037, 0.044256592273100685, 'Angola'),\n",
       "  Text(1.0987533987480809, 0.05235426190427012, 'Antigua and Barbuda'),\n",
       "  Text(1.0944686228340526, 0.11017455982091706, 'Argentina'),\n",
       "  Text(1.086663651720927, 0.1707691659186182, 'Armenia'),\n",
       "  Text(1.0857283478298867, 0.17661810416428086, 'Aruba'),\n",
       "  Text(1.0523823495273028, 0.32014276565837635, 'Australia'),\n",
       "  Text(0.9910077801370578, 0.47739247973530213, 'Austria'),\n",
       "  Text(0.9752136227990595, 0.5088795436123698, 'Azerbaijan'),\n",
       "  Text(0.9668661262984982, 0.5245663864722335, 'Bahamas'),\n",
       "  Text(0.9597932092993899, 0.5373983581876461, 'Bahrain'),\n",
       "  Text(0.9541053063623401, 0.5474331597293183, 'Bangladesh'),\n",
       "  Text(0.9520819155455847, 0.5509446669957431, 'Barbados'),\n",
       "  Text(0.934281848599264, 0.5806181424808754, 'Belarus'),\n",
       "  Text(0.8946587933971096, 0.6399887838058009, 'Belgium'),\n",
       "  Text(0.8708587882128844, 0.6720156032358079, 'Belize'),\n",
       "  Text(0.8689507383344078, 0.6744809962838744, 'Benin'),\n",
       "  Text(0.8672275255424163, 0.6766952186483792, 'Bermuda'),\n",
       "  Text(0.8662677463809546, 0.6779234407955388, 'Bhutan'),\n",
       "  Text(0.8647284824361975, 0.6798857636865115, 'Bolivia'),\n",
       "  Text(0.8624112543447039, 0.6828226917579664, 'Bosnia and Herzegovina'),\n",
       "  Text(0.8585270545381419, 0.687700004817553, 'Botswana'),\n",
       "  Text(0.7961661168321769, 0.7590253713864727, 'Brazil'),\n",
       "  Text(0.7304664718245214, 0.8224467967839839, 'Brunei Darussalam'),\n",
       "  Text(0.7203896466517118, 0.8312874093819912, 'Bulgaria'),\n",
       "  Text(0.7090147970385657, 0.8410101174066585, 'Burkina Faso'),\n",
       "  Text(0.7059114402230967, 0.8436166419423894, 'Burundi'),\n",
       "  Text(0.7037573466203464, 0.8454144528442188, 'Cambodia'),\n",
       "  Text(0.7003974387211755, 0.8482001107243605, 'Cameroon'),\n",
       "  Text(0.6054290499053094, 0.918398424176977, 'Canada'),\n",
       "  Text(0.5048676981388799, 0.9772965810724752, 'Cape Verde'),\n",
       "  Text(0.5018185248494287, 0.9788657559226105, 'Cayman Islands'),\n",
       "  Text(0.49987560066363546, 0.9798593694307208, 'Central African Republic'),\n",
       "  Text(0.4984865926892415, 0.9805667325119032, 'Chad'),\n",
       "  Text(0.4820214660405059, 0.9887645353046203, 'Chile'),\n",
       "  Text(0.44726791721051384, 1.0049633875093007, 'Chinese Taipei'),\n",
       "  Text(0.4096573701661615, 1.0208725870883912, 'Colombia'),\n",
       "  Text(0.3901999194996565, 1.0284668311727228, 'Comoros'),\n",
       "  Text(0.38845049349328664, 1.0291288617587315, 'Congo'),\n",
       "  Text(0.3858242500201625, 1.0301163274583989, 'Cook Islands'),\n",
       "  Text(0.3802717358433276, 1.0321789607033767, 'Costa Rica'),\n",
       "  Text(0.3597212076147431, 1.039519433580821, 'Croatia'),\n",
       "  Text(0.32237896614580575, 1.05169948283089, 'Cuba'),\n",
       "  Text(0.29755295827980655, 1.058991141142803, 'Cyprus'),\n",
       "  Text(0.2580401760759774, 1.0693059747007303, 'Czech Republic'),\n",
       "  Text(0.21358644349871606, 1.079064794696579, \"Côte d'Ivoire\"),\n",
       "  Text(0.20379164832441404, 1.0809574293528947, 'Democratic Republic of Timor-Leste'),\n",
       "  Text(0.200727299612147, 1.0815306519883823, 'Democratic Republic of the Congo'),\n",
       "  Text(0.1669184772560345, 1.0872618000971646, 'Denmark'),\n",
       "  Text(0.13387578954805116, 1.091822912826474, 'Djibouti'),\n",
       "  Text(0.1320189998945269, 1.0920489840967982, 'Dominica'),\n",
       "  Text(0.1125006891093619, 1.0942319657869253, 'Dominican Republic'),\n",
       "  Text(0.07927168601839446, 1.097139918057766, 'Ecuador'),\n",
       "  Text(0.023535363770833297, 1.0997481923841361, 'Egypt'),\n",
       "  Text(-0.01948336203653174, 1.0998274403758772, 'El Salvador'),\n",
       "  Text(-0.02197692084494976, 1.0997804394287867, 'Equatorial Guinea'),\n",
       "  Text(-0.026963686724901712, 1.0996694774331974, 'Eritrea'),\n",
       "  Text(-0.04129719327331504, 1.099224518389099, 'Estonia'),\n",
       "  Text(-0.052821340185226655, 1.0987310435320543, 'Eswatini'),\n",
       "  Text(-0.06714041543812446, 1.0979490719586205, 'Ethiopia'),\n",
       "  Text(-0.08113718190751118, 1.097003535870376, 'Federated States of Micronesia'),\n",
       "  Text(-0.09077185914086332, 1.096248361270434, 'Fiji'),\n",
       "  Text(-0.11343096944093038, 1.0941359217079434, 'Finland'),\n",
       "  Text(-0.2431662293631307, 1.0727861785543835, 'France'),\n",
       "  Text(-0.3576582032514152, 1.0402310366678018, 'Gabon'),\n",
       "  Text(-0.3600157715528352, 1.0394174542661947, 'Gambia'),\n",
       "  Text(-0.37118874096485915, 1.0354800425797317, 'Georgia'),\n",
       "  Text(-0.4957055518361626, 0.9819755627706862, 'Germany'),\n",
       "  Text(-0.6072498219126128, 0.9171955373785353, 'Ghana'),\n",
       "  Text(-0.7023187282094421, 0.8466099479726612, 'Great Britain'),\n",
       "  Text(-0.80237747373591, 0.7524562376917208, 'Greece'),\n",
       "  Text(-0.8194380488989268, 0.7338400943098711, 'Grenada'),\n",
       "  Text(-0.8217218117870303, 0.7312819319752406, 'Guam'),\n",
       "  Text(-0.8272935075848334, 0.7249727252165996, 'Guatemala'),\n",
       "  Text(-0.8328167623503765, 0.7186210686782267, 'Guinea'),\n",
       "  Text(-0.8346470265970467, 0.7164944807831453, 'Guinea-Bissau'),\n",
       "  Text(-0.8368766406666924, 0.7138889887835728, 'Guyana'),\n",
       "  Text(-0.8395011513056373, 0.7108008279092742, 'Haiti'),\n",
       "  Text(-0.8457135471958681, 0.7033978931510829, 'Honduras'),\n",
       "  Text(-0.8585270397618002, 0.6877000232643885, 'Hong Kong, China'),\n",
       "  Text(-0.895202592939162, 0.6392279073968854, 'Hungary'),\n",
       "  Text(-0.9230890466706708, 0.5982529664921288, 'Iceland'),\n",
       "  Text(-0.9430579212738349, 0.5662523793527702, 'India'),\n",
       "  Text(-0.9652260820152684, 0.5275780611411496, 'Indonesia'),\n",
       "  Text(-0.9696767573195195, 0.5193524682855583, 'Iraq'),\n",
       "  Text(-0.9867753544647052, 0.48608065156006314, 'Ireland'),\n",
       "  Text(-1.010524131574865, 0.4345583729545033, 'Islamic Republic of Iran'),\n",
       "  Text(-1.0281901056619025, 0.3909285185541798, 'Israel'),\n",
       "  Text(-1.068902453578213, 0.25970665130965803, 'Italy'),\n",
       "  Text(-1.092030264019109, 0.1321737586147691, 'Jamaica'),\n",
       "  Text(-1.0978430836511854, -0.06885175146106569, 'Japan'),\n",
       "  Text(-1.07057261887116, -0.25273359041359367, 'Jordan'),\n",
       "  Text(-1.0627399815042484, -0.28387273858606027, 'Kazakhstan'),\n",
       "  Text(-1.0478351842002087, -0.3347258979405609, 'Kenya'),\n",
       "  Text(-1.0398757538391632, -0.3586898612693596, 'Kiribati'),\n",
       "  Text(-1.0385471703110136, -0.3625186547461892, 'Kosovo'),\n",
       "  Text(-1.0364756744639028, -0.36839947915896676, 'Kuwait'),\n",
       "  Text(-1.0337329561276065, -0.3760268280531058, 'Kyrgyzstan'),\n",
       "  Text(-1.0315849710707234, -0.38188014803209497, \"Lao People's Democratic Republic\"),\n",
       "  Text(-1.0279683699898405, -0.3915112135053482, 'Latvia'),\n",
       "  Text(-1.0240343337177, -0.40168854024896755, 'Lebanon'),\n",
       "  Text(-1.0231209641401895, -0.40400927308274637, 'Lesotho'),\n",
       "  Text(-1.0225474370702907, -0.4054586772298503, 'Liberia'),\n",
       "  Text(-1.021741049888575, -0.4074864745885346, 'Libya'),\n",
       "  Text(-1.0206983580003288, -0.41009128492987085, 'Liechtenstein'),\n",
       "  Text(-1.0157447690553025, -0.4222115158742003, 'Lithuania'),\n",
       "  Text(-1.0099073437882007, -0.43598985878419383, 'Luxembourg'),\n",
       "  Text(-1.0077950493024777, -0.44085047193058224, 'Madagascar'),\n",
       "  Text(-1.0064158016433136, -0.44399012849684694, 'Malawi'),\n",
       "  Text(-1.002090892429473, -0.4536671062683551, 'Malaysia'),\n",
       "  Text(-0.9978042028902416, -0.4630191925769057, 'Maldives'),\n",
       "  Text(-0.9967518473847108, -0.46528029695568074, 'Mali'),\n",
       "  Text(-0.9954291982663851, -0.4681033125697167, 'Malta'),\n",
       "  Text(-0.9943653217991052, -0.4703590190517902, 'Marshall Islands'),\n",
       "  Text(-0.9938314663739669, -0.4714859663287667, 'Mauritania'),\n",
       "  Text(-0.9926256229838537, -0.47401937997925414, 'Mauritius'),\n",
       "  Text(-0.9698239274332364, -0.5190775951415865, 'Mexico'),\n",
       "  Text(-0.9451377930978779, -0.5627739795495817, 'Monaco'),\n",
       "  Text(-0.9372316356682282, -0.5758444764887979, 'Mongolia'),\n",
       "  Text(-0.9242741051016935, -0.5964204713442219, 'Montenegro'),\n",
       "  Text(-0.9099901118409859, -0.6179951426602237, 'Morocco'),\n",
       "  Text(-0.9000677652182448, -0.6323590894539546, 'Mozambique'),\n",
       "  Text(-0.898271988064052, -0.6349074227471718, 'Myanmar'),\n",
       "  Text(-0.8959266935264484, -0.6382126290091459, 'Namibia'),\n",
       "  Text(-0.893569237491168, -0.6415091720384462, 'Nauru'),\n",
       "  Text(-0.8922948120258629, -0.6432806296102271, 'Nepal'),\n",
       "  Text(-0.838694847904539, -0.7117520299222071, 'Netherlands'),\n",
       "  Text(-0.7353483944080066, -0.8180847992974609, 'New Zealand'),\n",
       "  Text(-0.6853860550559912, -0.8603754735781268, 'Nicaragua'),\n",
       "  Text(-0.681722296038171, -0.8632813626416619, 'Niger'),\n",
       "  Text(-0.665456288340959, -0.8758812295668144, 'Nigeria'),\n",
       "  Text(-0.6487057159575625, -0.8883585391518373, 'North Macedonia'),\n",
       "  Text(-0.6232716699124624, -0.90638425928771, 'Norway'),\n",
       "  Text(-0.5981221646933567, -0.9231738060097531, 'Oman'),\n",
       "  Text(-0.5941922305677241, -0.9257081576463247, 'Pakistan'),\n",
       "  Text(-0.5907775989593124, -0.9278910650328895, 'Palau'),\n",
       "  Text(-0.5889356265336192, -0.9290612615965933, 'Palestine'),\n",
       "  Text(-0.5855086766321171, -0.9312247793033146, 'Panama'),\n",
       "  Text(-0.5812799865374172, -0.9338702143505061, 'Papua New Guinea'),\n",
       "  Text(-0.5773047327191145, -0.9363328711415144, 'Paraguay'),\n",
       "  Text(-0.465139090116059, -0.9968177500656802, \"People's Republic of China\"),\n",
       "  Text(-0.3393256731837435, -1.0463546662190595, 'Peru'),\n",
       "  Text(-0.3241668739675439, -1.051149769453483, 'Philippines'),\n",
       "  Text(-0.26016102895611565, -1.0687919531005534, 'Poland'),\n",
       "  Text(-0.1746177277014727, -1.0860518630214555, 'Portugal'),\n",
       "  Text(-0.13758820415713757, -1.0913612995139665, 'Puerto Rico'),\n",
       "  Text(-0.12241962707102509, -1.0931667004202934, 'Qatar'),\n",
       "  Text(-0.019171686290121726, -1.0998329175128345, 'ROC'),\n",
       "  Text(0.08797538305400218, -1.0964763253150984, 'Refugee Olympic Team'),\n",
       "  Text(0.1650693682049987, -1.0875440697647165, 'Republic of Korea'),\n",
       "  Text(0.2392120992053209, -1.073674797875867, 'Republic of Moldova'),\n",
       "  Text(0.27497781109683017, -1.0650761491106615, 'Romania'),\n",
       "  Text(0.3062464946535784, -1.0565098601112988, 'Rwanda'),\n",
       "  Text(0.30834186403466335, -1.0559002296067699, 'Saint Kitts and Nevis'),\n",
       "  Text(0.31043601986825364, -1.0552864433737208, 'Saint Lucia'),\n",
       "  Text(0.31432191875186744, -1.0541355374865913, 'Samoa'),\n",
       "  Text(0.31790511661605847, -1.0530604620957575, 'San Marino'),\n",
       "  Text(0.31999361996566644, -1.0524277092424301, 'Sao Tome and Principe'),\n",
       "  Text(0.3304170815043057, -1.049201864395111, 'Saudi Arabia'),\n",
       "  Text(0.342585999743649, -1.045291745293937, 'Senegal'),\n",
       "  Text(0.3697210496237573, -1.0360049929730586, 'Serbia'),\n",
       "  Text(0.39544138170160487, -1.0264629139125903, 'Seychelles'),\n",
       "  Text(0.39805827519628617, -1.0254509298585466, 'Sierra Leone'),\n",
       "  Text(0.4058933488125171, -1.0223749749430295, 'Singapore'),\n",
       "  Text(0.42350660237818294, -1.0152054756265294, 'Slovakia'),\n",
       "  Text(0.4489761382347857, -1.0042013878180904, 'Slovenia'),\n",
       "  Text(0.46429136366413676, -0.9972128807967215, 'Solomon Islands'),\n",
       "  Text(0.46570399433373977, -0.996553957225398, 'Somalia'),\n",
       "  Text(0.5139856341571732, -0.9725321423377474, 'South Africa'),\n",
       "  Text(0.5610319395262919, -0.9461729032430422, 'South Sudan'),\n",
       "  Text(0.6459330756115295, -0.890376584278265, 'Spain'),\n",
       "  Text(0.7269635310943974, -0.8255446835022107, 'Sri Lanka'),\n",
       "  Text(0.7295336322456586, -0.823274364609063, 'St Vincent and the Grenadines'),\n",
       "  Text(0.7311654611196265, -0.8218254489036733, 'Sudan'),\n",
       "  Text(0.7330268843503431, -0.8201655850007539, 'Suriname'),\n",
       "  Text(0.7631892711001368, -0.7921755717501279, 'Sweden'),\n",
       "  Text(0.8161020000535341, -0.7375483207957441, 'Switzerland'),\n",
       "  Text(0.8409096292602959, -0.7091339756472764, 'Syrian Arab Republic'),\n",
       "  Text(0.8437166555614781, -0.7057918993075467, 'Tajikistan'),\n",
       "  Text(0.8530428461807869, -0.694491110511706, 'Thailand'),\n",
       "  Text(0.8614427803752702, -0.684044103943104, 'Togo'),\n",
       "  Text(0.8631847566808674, -0.6818446126749055, 'Tonga'),\n",
       "  Text(0.870096390376426, -0.6730024304962904, 'Trinidad and Tobago'),\n",
       "  Text(0.8866087582971149, -0.6510951617934572, 'Tunisia'),\n",
       "  Text(0.9150385179437802, -0.6104952994735097, 'Turkey'),\n",
       "  Text(0.933623024216881, -0.5816769280727278, 'Turkmenistan'),\n",
       "  Text(0.9352677993978579, -0.579028620544346, 'Tuvalu'),\n",
       "  Text(0.9395090251152305, -0.5721213085762751, 'Uganda'),\n",
       "  Text(0.9668661140201354, -0.5245664091033685, 'Ukraine'),\n",
       "  Text(0.9891058079457847, -0.48132078771638004, 'United Arab Emirates'),\n",
       "  Text(0.9899228424234191, -0.4796381615846874, 'United Republic of Tanzania'),\n",
       "  Text(1.0582712687234248, -0.3001031852455297, 'United States of America'),\n",
       "  Text(1.0946236452116558, -0.1086235487523172, 'Uruguay'),\n",
       "  Text(1.09666084383972, -0.08564457711235098, 'Uzbekistan'),\n",
       "  Text(1.0980523916784306, -0.06542893189773664, 'Vanuatu'),\n",
       "  Text(1.0987975139997421, -0.05142006639422862, 'Venezuela'),\n",
       "  Text(1.0995129898994203, -0.03272896335720929, 'Vietnam'),\n",
       "  Text(1.0996808400748186, -0.02649622562444133, 'Virgin Islands, British'),\n",
       "  Text(1.0997312409695623, -0.024314556042554235, 'Virgin Islands, US'),\n",
       "  Text(1.0997773136289624, -0.022132790765358217, 'Yemen'),\n",
       "  Text(1.0999328081135336, -0.012158027614582324, 'Zambia'),\n",
       "  Text(1.0999988955685875, -0.001558764859725184, 'Zimbabwe')])"
      ]
     },
     "execution_count": 40,
     "metadata": {},
     "output_type": "execute_result"
    },
    {
     "data": {
      "image/png": "[encoded data removed]",
      "text/plain": [
       "<Figure size 720x720 with 1 Axes>"
      ]
     },
     "metadata": {},
     "output_type": "display_data"
    }
   ],
   "source": [
    "plt.figure(figsize=(10,10))\n",
    "plt.pie(conteoMundial['Name'], labels=conteoMundial.index.values)"
   ]
  },
  {
   "cell_type": "code",
   "execution_count": 44,
   "metadata": {},
   "outputs": [
    {
     "data": {
      "text/plain": [
       "<BarContainer object of 206 artists>"
      ]
     },
     "execution_count": 44,
     "metadata": {},
     "output_type": "execute_result"
    },
    {
     "data": {
      "image/png": "[encoded data removed]",
      "text/plain": [
       "<Figure size 1440x1440 with 1 Axes>"
      ]
     },
     "metadata": {
      "needs_background": "light"
     },
     "output_type": "display_data"
    }
   ],
   "source": [
    "plt.figure(figsize=(20,20))\n",
    "plt.bar(conteoMundial.index.values, conteoMundial['Name'])"
   ]
  },
  {
   "cell_type": "code",
   "execution_count": 48,
   "metadata": {},
   "outputs": [
    {
     "data": {
      "text/html": [
       "<div>\n",
       "<style scoped>\n",
       "    .dataframe tbody tr th:only-of-type {\n",
       "        vertical-align: middle;\n",
       "    }\n",
       "\n",
       "    .dataframe tbody tr th {\n",
       "        vertical-align: top;\n",
       "    }\n",
       "\n",
       "    .dataframe thead th {\n",
       "        text-align: right;\n",
       "    }\n",
       "</style>\n",
       "<table border=\"1\" class=\"dataframe\">\n",
       "  <thead>\n",
       "    <tr style=\"text-align: right;\">\n",
       "      <th></th>\n",
       "      <th>Name</th>\n",
       "      <th>Country</th>\n",
       "      <th>Discipline</th>\n",
       "    </tr>\n",
       "  </thead>\n",
       "  <tbody>\n",
       "    <tr>\n",
       "      <th>1</th>\n",
       "      <td>ABAD Nestor</td>\n",
       "      <td>Spain</td>\n",
       "      <td>Artistic Gymnastics</td>\n",
       "    </tr>\n",
       "    <tr>\n",
       "      <th>2</th>\n",
       "      <td>ABAGNALE Giovanni</td>\n",
       "      <td>Italy</td>\n",
       "      <td>Rowing</td>\n",
       "    </tr>\n",
       "    <tr>\n",
       "      <th>3</th>\n",
       "      <td>ABALDE Alberto</td>\n",
       "      <td>Spain</td>\n",
       "      <td>Basketball</td>\n",
       "    </tr>\n",
       "    <tr>\n",
       "      <th>4</th>\n",
       "      <td>ABALDE Tamara</td>\n",
       "      <td>Spain</td>\n",
       "      <td>Basketball</td>\n",
       "    </tr>\n",
       "    <tr>\n",
       "      <th>5</th>\n",
       "      <td>ABALO Luc</td>\n",
       "      <td>France</td>\n",
       "      <td>Handball</td>\n",
       "    </tr>\n",
       "    <tr>\n",
       "      <th>...</th>\n",
       "      <td>...</td>\n",
       "      <td>...</td>\n",
       "      <td>...</td>\n",
       "    </tr>\n",
       "    <tr>\n",
       "      <th>10984</th>\n",
       "      <td>ZEZE Meba Mickael</td>\n",
       "      <td>France</td>\n",
       "      <td>Athletics</td>\n",
       "    </tr>\n",
       "    <tr>\n",
       "      <th>10985</th>\n",
       "      <td>ZEZE Ryan</td>\n",
       "      <td>France</td>\n",
       "      <td>Athletics</td>\n",
       "    </tr>\n",
       "    <tr>\n",
       "      <th>11061</th>\n",
       "      <td>ZOGHLAMI Ala</td>\n",
       "      <td>Italy</td>\n",
       "      <td>Athletics</td>\n",
       "    </tr>\n",
       "    <tr>\n",
       "      <th>11062</th>\n",
       "      <td>ZOGHLAMI Osama</td>\n",
       "      <td>Italy</td>\n",
       "      <td>Athletics</td>\n",
       "    </tr>\n",
       "    <tr>\n",
       "      <th>11073</th>\n",
       "      <td>ZUBIMENDI Martin</td>\n",
       "      <td>Spain</td>\n",
       "      <td>Football</td>\n",
       "    </tr>\n",
       "  </tbody>\n",
       "</table>\n",
       "<p>1212 rows × 3 columns</p>\n",
       "</div>"
      ],
      "text/plain": [
       "                    Name Country           Discipline\n",
       "1            ABAD Nestor   Spain  Artistic Gymnastics\n",
       "2      ABAGNALE Giovanni   Italy               Rowing\n",
       "3         ABALDE Alberto   Spain           Basketball\n",
       "4          ABALDE Tamara   Spain           Basketball\n",
       "5              ABALO Luc  France             Handball\n",
       "...                  ...     ...                  ...\n",
       "10984  ZEZE Meba Mickael  France            Athletics\n",
       "10985          ZEZE Ryan  France            Athletics\n",
       "11061       ZOGHLAMI Ala   Italy            Athletics\n",
       "11062     ZOGHLAMI Osama   Italy            Athletics\n",
       "11073   ZUBIMENDI Martin   Spain             Football\n",
       "\n",
       "[1212 rows x 3 columns]"
      ]
     },
     "execution_count": 48,
     "metadata": {},
     "output_type": "execute_result"
    }
   ],
   "source": [
    "dfFernanda = df[(df['Country']=='Mexico') | (df['Country']=='Spain') | (df['Country']=='Italy') | (df['Country']=='France')]\n",
    "dfFernanda"
   ]
  },
  {
   "cell_type": "code",
   "execution_count": 63,
   "metadata": {},
   "outputs": [
    {
     "data": {
      "text/html": [
       "<div>\n",
       "<style scoped>\n",
       "    .dataframe tbody tr th:only-of-type {\n",
       "        vertical-align: middle;\n",
       "    }\n",
       "\n",
       "    .dataframe tbody tr th {\n",
       "        vertical-align: top;\n",
       "    }\n",
       "\n",
       "    .dataframe thead th {\n",
       "        text-align: right;\n",
       "    }\n",
       "</style>\n",
       "<table border=\"1\" class=\"dataframe\">\n",
       "  <thead>\n",
       "    <tr style=\"text-align: right;\">\n",
       "      <th></th>\n",
       "      <th>Name</th>\n",
       "      <th>Discipline</th>\n",
       "    </tr>\n",
       "    <tr>\n",
       "      <th>Country</th>\n",
       "      <th></th>\n",
       "      <th></th>\n",
       "    </tr>\n",
       "  </thead>\n",
       "  <tbody>\n",
       "    <tr>\n",
       "      <th>France</th>\n",
       "      <td>377</td>\n",
       "      <td>377</td>\n",
       "    </tr>\n",
       "    <tr>\n",
       "      <th>Italy</th>\n",
       "      <td>356</td>\n",
       "      <td>356</td>\n",
       "    </tr>\n",
       "    <tr>\n",
       "      <th>Mexico</th>\n",
       "      <td>155</td>\n",
       "      <td>155</td>\n",
       "    </tr>\n",
       "    <tr>\n",
       "      <th>Spain</th>\n",
       "      <td>324</td>\n",
       "      <td>324</td>\n",
       "    </tr>\n",
       "  </tbody>\n",
       "</table>\n",
       "</div>"
      ],
      "text/plain": [
       "         Name  Discipline\n",
       "Country                  \n",
       "France    377         377\n",
       "Italy     356         356\n",
       "Mexico    155         155\n",
       "Spain     324         324"
      ]
     },
     "execution_count": 63,
     "metadata": {},
     "output_type": "execute_result"
    }
   ],
   "source": [
    "conteoFernanda = dfFernanda.groupby('Country').count()\n",
    "conteoFernanda"
   ]
  },
  {
   "cell_type": "code",
   "execution_count": 66,
   "metadata": {},
   "outputs": [
    {
     "data": {
      "text/plain": [
       "([<matplotlib.patches.Wedge at 0x201fba50d00>,\n",
       "  <matplotlib.patches.Wedge at 0x201fc5ba220>,\n",
       "  <matplotlib.patches.Wedge at 0x201fc5ba4c0>,\n",
       "  <matplotlib.patches.Wedge at 0x201fc5ba8b0>],\n",
       " [Text(0.6152697677519001, 0.9118350250404528, 'France'),\n",
       "  Text(-1.0617768703492707, 0.28745413128238045, 'Italy'),\n",
       "  Text(-0.537607796305502, -0.9596759126661156, 'Mexico'),\n",
       "  Text(0.7343469291842983, -0.818983875053466, 'Spain')])"
      ]
     },
     "execution_count": 66,
     "metadata": {},
     "output_type": "execute_result"
    },
    {
     "data": {
      "image/png": "[encoded data removed]",
      "text/plain": [
       "<Figure size 720x720 with 1 Axes>"
      ]
     },
     "metadata": {},
     "output_type": "display_data"
    }
   ],
   "source": [
    "plt.figure(figsize=(10,10))\n",
    "plt.pie(conteoFernanda['Name'], labels=conteoFernanda.index.values)"
   ]
  },
  {
   "cell_type": "code",
   "execution_count": 61,
   "metadata": {},
   "outputs": [
    {
     "data": {
      "text/plain": [
       "<BarContainer object of 4 artists>"
      ]
     },
     "execution_count": 61,
     "metadata": {},
     "output_type": "execute_result"
    },
    {
     "data": {
      "image/png": "[encoded data removed]",
      "text/plain": [
       "<Figure size 720x720 with 1 Axes>"
      ]
     },
     "metadata": {
      "needs_background": "light"
     },
     "output_type": "display_data"
    }
   ],
   "source": [
    "plt.figure(figsize=(10,10))\n",
    "plt.bar(conteoFernanda.index.values, conteoFernanda['Name'])"
   ]
  },
  {
   "cell_type": "code",
   "execution_count": 74,
   "metadata": {},
   "outputs": [
    {
     "data": {
      "application/vnd.plotly.v1+json": {
       "config": {
        "plotlyServerURL": "https://plot.ly"
       },
       "data": [
        {
         "alignmentgroup": "True",
         "hovertemplate": "Country=%{x}<br>Name=%{y}<extra></extra>",
         "legendgroup": "",
         "marker": {
          "color": "#636efa",
          "pattern": {
           "shape": ""
          }
         },
         "name": "",
         "offsetgroup": "",
         "orientation": "v",
         "showlegend": false,
         "textposition": "auto",
         "type": "bar",
         "x": [
          "Afghanistan",
          "Albania",
          "Algeria",
          "American Samoa",
          "Andorra",
          "Angola",
          "Antigua and Barbuda",
          "Argentina",
          "Armenia",
          "Aruba",
          "Australia",
          "Austria",
          "Azerbaijan",
          "Bahamas",
          "Bahrain",
          "Bangladesh",
          "Barbados",
          "Belarus",
          "Belgium",
          "Belize",
          "Benin",
          "Bermuda",
          "Bhutan",
          "Bolivia",
          "Bosnia and Herzegovina",
          "Botswana",
          "Brazil",
          "Brunei Darussalam",
          "Bulgaria",
          "Burkina Faso",
          "Burundi",
          "Cambodia",
          "Cameroon",
          "Canada",
          "Cape Verde",
          "Cayman Islands",
          "Central African Republic",
          "Chad",
          "Chile",
          "Chinese Taipei",
          "Colombia",
          "Comoros",
          "Congo",
          "Cook Islands",
          "Costa Rica",
          "Croatia",
          "Cuba",
          "Cyprus",
          "Czech Republic",
          "Côte d'Ivoire",
          "Democratic Republic of Timor-Leste",
          "Democratic Republic of the Congo",
          "Denmark",
          "Djibouti",
          "Dominica",
          "Dominican Republic",
          "Ecuador",
          "Egypt",
          "El Salvador",
          "Equatorial Guinea",
          "Eritrea",
          "Estonia",
          "Eswatini",
          "Ethiopia",
          "Federated States of Micronesia",
          "Fiji",
          "Finland",
          "France",
          "Gabon",
          "Gambia",
          "Georgia",
          "Germany",
          "Ghana",
          "Great Britain",
          "Greece",
          "Grenada",
          "Guam",
          "Guatemala",
          "Guinea",
          "Guinea-Bissau",
          "Guyana",
          "Haiti",
          "Honduras",
          "Hong Kong, China",
          "Hungary",
          "Iceland",
          "India",
          "Indonesia",
          "Iraq",
          "Ireland",
          "Islamic Republic of Iran",
          "Israel",
          "Italy",
          "Jamaica",
          "Japan",
          "Jordan",
          "Kazakhstan",
          "Kenya",
          "Kiribati",
          "Kosovo",
          "Kuwait",
          "Kyrgyzstan",
          "Lao People's Democratic Republic",
          "Latvia",
          "Lebanon",
          "Lesotho",
          "Liberia",
          "Libya",
          "Liechtenstein",
          "Lithuania",
          "Luxembourg",
          "Madagascar",
          "Malawi",
          "Malaysia",
          "Maldives",
          "Mali",
          "Malta",
          "Marshall Islands",
          "Mauritania",
          "Mauritius",
          "Mexico",
          "Monaco",
          "Mongolia",
          "Montenegro",
          "Morocco",
          "Mozambique",
          "Myanmar",
          "Namibia",
          "Nauru",
          "Nepal",
          "Netherlands",
          "New Zealand",
          "Nicaragua",
          "Niger",
          "Nigeria",
          "North Macedonia",
          "Norway",
          "Oman",
          "Pakistan",
          "Palau",
          "Palestine",
          "Panama",
          "Papua New Guinea",
          "Paraguay",
          "People's Republic of China",
          "Peru",
          "Philippines",
          "Poland",
          "Portugal",
          "Puerto Rico",
          "Qatar",
          "ROC",
          "Refugee Olympic Team",
          "Republic of Korea",
          "Republic of Moldova",
          "Romania",
          "Rwanda",
          "Saint Kitts and Nevis",
          "Saint Lucia",
          "Samoa",
          "San Marino",
          "Sao Tome and Principe",
          "Saudi Arabia",
          "Senegal",
          "Serbia",
          "Seychelles",
          "Sierra Leone",
          "Singapore",
          "Slovakia",
          "Slovenia",
          "Solomon Islands",
          "Somalia",
          "South Africa",
          "South Sudan",
          "Spain",
          "Sri Lanka",
          "St Vincent and the Grenadines",
          "Sudan",
          "Suriname",
          "Sweden",
          "Switzerland",
          "Syrian Arab Republic",
          "Tajikistan",
          "Thailand",
          "Togo",
          "Tonga",
          "Trinidad and Tobago",
          "Tunisia",
          "Turkey",
          "Turkmenistan",
          "Tuvalu",
          "Uganda",
          "Ukraine",
          "United Arab Emirates",
          "United Republic of Tanzania",
          "United States of America",
          "Uruguay",
          "Uzbekistan",
          "Vanuatu",
          "Venezuela",
          "Vietnam",
          "Virgin Islands, British",
          "Virgin Islands, US",
          "Yemen",
          "Zambia",
          "Zimbabwe"
         ],
         "xaxis": "x",
         "y": [
          5,
          8,
          41,
          5,
          2,
          20,
          6,
          180,
          16,
          3,
          470,
          72,
          41,
          16,
          31,
          6,
          7,
          104,
          125,
          3,
          7,
          2,
          3,
          5,
          7,
          13,
          291,
          2,
          41,
          7,
          6,
          3,
          11,
          368,
          6,
          5,
          2,
          3,
          56,
          67,
          64,
          3,
          3,
          6,
          13,
          57,
          69,
          14,
          117,
          29,
          3,
          7,
          103,
          4,
          2,
          61,
          46,
          133,
          5,
          3,
          13,
          33,
          4,
          42,
          3,
          28,
          45,
          377,
          5,
          3,
          35,
          400,
          14,
          366,
          75,
          6,
          5,
          22,
          5,
          4,
          7,
          6,
          25,
          40,
          155,
          4,
          117,
          26,
          4,
          116,
          66,
          85,
          356,
          60,
          586,
          11,
          92,
          78,
          3,
          10,
          10,
          16,
          4,
          29,
          6,
          2,
          3,
          4,
          5,
          37,
          11,
          6,
          5,
          29,
          4,
          4,
          6,
          2,
          2,
          7,
          155,
          6,
          43,
          35,
          48,
          8,
          2,
          11,
          2,
          5,
          274,
          202,
          8,
          7,
          59,
          8,
          92,
          5,
          10,
          3,
          4,
          9,
          7,
          8,
          401,
          33,
          18,
          195,
          85,
          35,
          14,
          318,
          26,
          223,
          19,
          99,
          5,
          2,
          5,
          8,
          4,
          3,
          32,
          9,
          83,
          5,
          4,
          23,
          38,
          51,
          3,
          2,
          171,
          2,
          324,
          9,
          2,
          5,
          3,
          129,
          115,
          6,
          8,
          39,
          4,
          5,
          31,
          57,
          102,
          8,
          2,
          24,
          152,
          4,
          2,
          615,
          11,
          63,
          2,
          43,
          17,
          3,
          4,
          3,
          29,
          5
         ],
         "yaxis": "y"
        }
       ],
       "layout": {
        "barmode": "relative",
        "legend": {
         "tracegroupgap": 0
        },
        "margin": {
         "t": 60
        },
        "template": {
         "data": {
          "bar": [
           {
            "error_x": {
             "color": "#2a3f5f"
            },
            "error_y": {
             "color": "#2a3f5f"
            },
            "marker": {
             "line": {
              "color": "#E5ECF6",
              "width": 0.5
             },
             "pattern": {
              "fillmode": "overlay",
              "size": 10,
              "solidity": 0.2
             }
            },
            "type": "bar"
           }
          ],
          "barpolar": [
           {
            "marker": {
             "line": {
              "color": "#E5ECF6",
              "width": 0.5
             },
             "pattern": {
              "fillmode": "overlay",
              "size": 10,
              "solidity": 0.2
             }
            },
            "type": "barpolar"
           }
          ],
          "carpet": [
           {
            "aaxis": {
             "endlinecolor": "#2a3f5f",
             "gridcolor": "white",
             "linecolor": "white",
             "minorgridcolor": "white",
             "startlinecolor": "#2a3f5f"
            },
            "baxis": {
             "endlinecolor": "#2a3f5f",
             "gridcolor": "white",
             "linecolor": "white",
             "minorgridcolor": "white",
             "startlinecolor": "#2a3f5f"
            },
            "type": "carpet"
           }
          ],
          "choropleth": [
           {
            "colorbar": {
             "outlinewidth": 0,
             "ticks": ""
            },
            "type": "choropleth"
           }
          ],
          "contour": [
           {
            "colorbar": {
             "outlinewidth": 0,
             "ticks": ""
            },
            "colorscale": [
             [
              0,
              "#0d0887"
             ],
             [
              0.1111111111111111,
              "#46039f"
             ],
             [
              0.2222222222222222,
              "#7201a8"
             ],
             [
              0.3333333333333333,
              "#9c179e"
             ],
             [
              0.4444444444444444,
              "#bd3786"
             ],
             [
              0.5555555555555556,
              "#d8576b"
             ],
             [
              0.6666666666666666,
              "#ed7953"
             ],
             [
              0.7777777777777778,
              "#fb9f3a"
             ],
             [
              0.8888888888888888,
              "#fdca26"
             ],
             [
              1,
              "#f0f921"
             ]
            ],
            "type": "contour"
           }
          ],
          "contourcarpet": [
           {
            "colorbar": {
             "outlinewidth": 0,
             "ticks": ""
            },
            "type": "contourcarpet"
           }
          ],
          "heatmap": [
           {
            "colorbar": {
             "outlinewidth": 0,
             "ticks": ""
            },
            "colorscale": [
             [
              0,
              "#0d0887"
             ],
             [
              0.1111111111111111,
              "#46039f"
             ],
             [
              0.2222222222222222,
              "#7201a8"
             ],
             [
              0.3333333333333333,
              "#9c179e"
             ],
             [
              0.4444444444444444,
              "#bd3786"
             ],
             [
              0.5555555555555556,
              "#d8576b"
             ],
             [
              0.6666666666666666,
              "#ed7953"
             ],
             [
              0.7777777777777778,
              "#fb9f3a"
             ],
             [
              0.8888888888888888,
              "#fdca26"
             ],
             [
              1,
              "#f0f921"
             ]
            ],
            "type": "heatmap"
           }
          ],
          "heatmapgl": [
           {
            "colorbar": {
             "outlinewidth": 0,
             "ticks": ""
            },
            "colorscale": [
             [
              0,
              "#0d0887"
             ],
             [
              0.1111111111111111,
              "#46039f"
             ],
             [
              0.2222222222222222,
              "#7201a8"
             ],
             [
              0.3333333333333333,
              "#9c179e"
             ],
             [
              0.4444444444444444,
              "#bd3786"
             ],
             [
              0.5555555555555556,
              "#d8576b"
             ],
             [
              0.6666666666666666,
              "#ed7953"
             ],
             [
              0.7777777777777778,
              "#fb9f3a"
             ],
             [
              0.8888888888888888,
              "#fdca26"
             ],
             [
              1,
              "#f0f921"
             ]
            ],
            "type": "heatmapgl"
           }
          ],
          "histogram": [
           {
            "marker": {
             "pattern": {
              "fillmode": "overlay",
              "size": 10,
              "solidity": 0.2
             }
            },
            "type": "histogram"
           }
          ],
          "histogram2d": [
           {
            "colorbar": {
             "outlinewidth": 0,
             "ticks": ""
            },
            "colorscale": [
             [
              0,
              "#0d0887"
             ],
             [
              0.1111111111111111,
              "#46039f"
             ],
             [
              0.2222222222222222,
              "#7201a8"
             ],
             [
              0.3333333333333333,
              "#9c179e"
             ],
             [
              0.4444444444444444,
              "#bd3786"
             ],
             [
              0.5555555555555556,
              "#d8576b"
             ],
             [
              0.6666666666666666,
              "#ed7953"
             ],
             [
              0.7777777777777778,
              "#fb9f3a"
             ],
             [
              0.8888888888888888,
              "#fdca26"
             ],
             [
              1,
              "#f0f921"
             ]
            ],
            "type": "histogram2d"
           }
          ],
          "histogram2dcontour": [
           {
            "colorbar": {
             "outlinewidth": 0,
             "ticks": ""
            },
            "colorscale": [
             [
              0,
              "#0d0887"
             ],
             [
              0.1111111111111111,
              "#46039f"
             ],
             [
              0.2222222222222222,
              "#7201a8"
             ],
             [
              0.3333333333333333,
              "#9c179e"
             ],
             [
              0.4444444444444444,
              "#bd3786"
             ],
             [
              0.5555555555555556,
              "#d8576b"
             ],
             [
              0.6666666666666666,
              "#ed7953"
             ],
             [
              0.7777777777777778,
              "#fb9f3a"
             ],
             [
              0.8888888888888888,
              "#fdca26"
             ],
             [
              1,
              "#f0f921"
             ]
            ],
            "type": "histogram2dcontour"
           }
          ],
          "mesh3d": [
           {
            "colorbar": {
             "outlinewidth": 0,
             "ticks": ""
            },
            "type": "mesh3d"
           }
          ],
          "parcoords": [
           {
            "line": {
             "colorbar": {
              "outlinewidth": 0,
              "ticks": ""
             }
            },
            "type": "parcoords"
           }
          ],
          "pie": [
           {
            "automargin": true,
            "type": "pie"
           }
          ],
          "scatter": [
           {
            "marker": {
             "colorbar": {
              "outlinewidth": 0,
              "ticks": ""
             }
            },
            "type": "scatter"
           }
          ],
          "scatter3d": [
           {
            "line": {
             "colorbar": {
              "outlinewidth": 0,
              "ticks": ""
             }
            },
            "marker": {
             "colorbar": {
              "outlinewidth": 0,
              "ticks": ""
             }
            },
            "type": "scatter3d"
           }
          ],
          "scattercarpet": [
           {
            "marker": {
             "colorbar": {
              "outlinewidth": 0,
              "ticks": ""
             }
            },
            "type": "scattercarpet"
           }
          ],
          "scattergeo": [
           {
            "marker": {
             "colorbar": {
              "outlinewidth": 0,
              "ticks": ""
             }
            },
            "type": "scattergeo"
           }
          ],
          "scattergl": [
           {
            "marker": {
             "colorbar": {
              "outlinewidth": 0,
              "ticks": ""
             }
            },
            "type": "scattergl"
           }
          ],
          "scattermapbox": [
           {
            "marker": {
             "colorbar": {
              "outlinewidth": 0,
              "ticks": ""
             }
            },
            "type": "scattermapbox"
           }
          ],
          "scatterpolar": [
           {
            "marker": {
             "colorbar": {
              "outlinewidth": 0,
              "ticks": ""
             }
            },
            "type": "scatterpolar"
           }
          ],
          "scatterpolargl": [
           {
            "marker": {
             "colorbar": {
              "outlinewidth": 0,
              "ticks": ""
             }
            },
            "type": "scatterpolargl"
           }
          ],
          "scatterternary": [
           {
            "marker": {
             "colorbar": {
              "outlinewidth": 0,
              "ticks": ""
             }
            },
            "type": "scatterternary"
           }
          ],
          "surface": [
           {
            "colorbar": {
             "outlinewidth": 0,
             "ticks": ""
            },
            "colorscale": [
             [
              0,
              "#0d0887"
             ],
             [
              0.1111111111111111,
              "#46039f"
             ],
             [
              0.2222222222222222,
              "#7201a8"
             ],
             [
              0.3333333333333333,
              "#9c179e"
             ],
             [
              0.4444444444444444,
              "#bd3786"
             ],
             [
              0.5555555555555556,
              "#d8576b"
             ],
             [
              0.6666666666666666,
              "#ed7953"
             ],
             [
              0.7777777777777778,
              "#fb9f3a"
             ],
             [
              0.8888888888888888,
              "#fdca26"
             ],
             [
              1,
              "#f0f921"
             ]
            ],
            "type": "surface"
           }
          ],
          "table": [
           {
            "cells": {
             "fill": {
              "color": "#EBF0F8"
             },
             "line": {
              "color": "white"
             }
            },
            "header": {
             "fill": {
              "color": "#C8D4E3"
             },
             "line": {
              "color": "white"
             }
            },
            "type": "table"
           }
          ]
         },
         "layout": {
          "annotationdefaults": {
           "arrowcolor": "#2a3f5f",
           "arrowhead": 0,
           "arrowwidth": 1
          },
          "autotypenumbers": "strict",
          "coloraxis": {
           "colorbar": {
            "outlinewidth": 0,
            "ticks": ""
           }
          },
          "colorscale": {
           "diverging": [
            [
             0,
             "#8e0152"
            ],
            [
             0.1,
             "#c51b7d"
            ],
            [
             0.2,
             "#de77ae"
            ],
            [
             0.3,
             "#f1b6da"
            ],
            [
             0.4,
             "#fde0ef"
            ],
            [
             0.5,
             "#f7f7f7"
            ],
            [
             0.6,
             "#e6f5d0"
            ],
            [
             0.7,
             "#b8e186"
            ],
            [
             0.8,
             "#7fbc41"
            ],
            [
             0.9,
             "#4d9221"
            ],
            [
             1,
             "#276419"
            ]
           ],
           "sequential": [
            [
             0,
             "#0d0887"
            ],
            [
             0.1111111111111111,
             "#46039f"
            ],
            [
             0.2222222222222222,
             "#7201a8"
            ],
            [
             0.3333333333333333,
             "#9c179e"
            ],
            [
             0.4444444444444444,
             "#bd3786"
            ],
            [
             0.5555555555555556,
             "#d8576b"
            ],
            [
             0.6666666666666666,
             "#ed7953"
            ],
            [
             0.7777777777777778,
             "#fb9f3a"
            ],
            [
             0.8888888888888888,
             "#fdca26"
            ],
            [
             1,
             "#f0f921"
            ]
           ],
           "sequentialminus": [
            [
             0,
             "#0d0887"
            ],
            [
             0.1111111111111111,
             "#46039f"
            ],
            [
             0.2222222222222222,
             "#7201a8"
            ],
            [
             0.3333333333333333,
             "#9c179e"
            ],
            [
             0.4444444444444444,
             "#bd3786"
            ],
            [
             0.5555555555555556,
             "#d8576b"
            ],
            [
             0.6666666666666666,
             "#ed7953"
            ],
            [
             0.7777777777777778,
             "#fb9f3a"
            ],
            [
             0.8888888888888888,
             "#fdca26"
            ],
            [
             1,
             "#f0f921"
            ]
           ]
          },
          "colorway": [
           "#636efa",
           "#EF553B",
           "#00cc96",
           "#ab63fa",
           "#FFA15A",
           "#19d3f3",
           "#FF6692",
           "#B6E880",
           "#FF97FF",
           "#FECB52"
          ],
          "font": {
           "color": "#2a3f5f"
          },
          "geo": {
           "bgcolor": "white",
           "lakecolor": "white",
           "landcolor": "#E5ECF6",
           "showlakes": true,
           "showland": true,
           "subunitcolor": "white"
          },
          "hoverlabel": {
           "align": "left"
          },
          "hovermode": "closest",
          "mapbox": {
           "style": "light"
          },
          "paper_bgcolor": "white",
          "plot_bgcolor": "#E5ECF6",
          "polar": {
           "angularaxis": {
            "gridcolor": "white",
            "linecolor": "white",
            "ticks": ""
           },
           "bgcolor": "#E5ECF6",
           "radialaxis": {
            "gridcolor": "white",
            "linecolor": "white",
            "ticks": ""
           }
          },
          "scene": {
           "xaxis": {
            "backgroundcolor": "#E5ECF6",
            "gridcolor": "white",
            "gridwidth": 2,
            "linecolor": "white",
            "showbackground": true,
            "ticks": "",
            "zerolinecolor": "white"
           },
           "yaxis": {
            "backgroundcolor": "#E5ECF6",
            "gridcolor": "white",
            "gridwidth": 2,
            "linecolor": "white",
            "showbackground": true,
            "ticks": "",
            "zerolinecolor": "white"
           },
           "zaxis": {
            "backgroundcolor": "#E5ECF6",
            "gridcolor": "white",
            "gridwidth": 2,
            "linecolor": "white",
            "showbackground": true,
            "ticks": "",
            "zerolinecolor": "white"
           }
          },
          "shapedefaults": {
           "line": {
            "color": "#2a3f5f"
           }
          },
          "ternary": {
           "aaxis": {
            "gridcolor": "white",
            "linecolor": "white",
            "ticks": ""
           },
           "baxis": {
            "gridcolor": "white",
            "linecolor": "white",
            "ticks": ""
           },
           "bgcolor": "#E5ECF6",
           "caxis": {
            "gridcolor": "white",
            "linecolor": "white",
            "ticks": ""
           }
          },
          "title": {
           "x": 0.05
          },
          "xaxis": {
           "automargin": true,
           "gridcolor": "white",
           "linecolor": "white",
           "ticks": "",
           "title": {
            "standoff": 15
           },
           "zerolinecolor": "white",
           "zerolinewidth": 2
          },
          "yaxis": {
           "automargin": true,
           "gridcolor": "white",
           "linecolor": "white",
           "ticks": "",
           "title": {
            "standoff": 15
           },
           "zerolinecolor": "white",
           "zerolinewidth": 2
          }
         }
        },
        "xaxis": {
         "anchor": "y",
         "domain": [
          0,
          1
         ],
         "title": {
          "text": "Country"
         }
        },
        "yaxis": {
         "anchor": "x",
         "domain": [
          0,
          1
         ],
         "title": {
          "text": "Name"
         }
        }
       }
      },
      "text/html": [
       "<div>                            <div id=\"86205c23-97f5-48da-a2c3-d768f2cecc4f\" class=\"plotly-graph-div\" style=\"height:525px; width:100%;\"></div>            <script type=\"text/javascript\">                require([\"plotly\"], function(Plotly) {                    window.PLOTLYENV=window.PLOTLYENV || {};                                    if (document.getElementById(\"86205c23-97f5-48da-a2c3-d768f2cecc4f\")) {                    Plotly.newPlot(                        \"86205c23-97f5-48da-a2c3-d768f2cecc4f\",                        [{\"alignmentgroup\":\"True\",\"hovertemplate\":\"Country=%{x}<br>Name=%{y}<extra></extra>\",\"legendgroup\":\"\",\"marker\":{\"color\":\"#636efa\",\"pattern\":{\"shape\":\"\"}},\"name\":\"\",\"offsetgroup\":\"\",\"orientation\":\"v\",\"showlegend\":false,\"textposition\":\"auto\",\"type\":\"bar\",\"x\":[\"Afghanistan\",\"Albania\",\"Algeria\",\"American Samoa\",\"Andorra\",\"Angola\",\"Antigua and Barbuda\",\"Argentina\",\"Armenia\",\"Aruba\",\"Australia\",\"Austria\",\"Azerbaijan\",\"Bahamas\",\"Bahrain\",\"Bangladesh\",\"Barbados\",\"Belarus\",\"Belgium\",\"Belize\",\"Benin\",\"Bermuda\",\"Bhutan\",\"Bolivia\",\"Bosnia and Herzegovina\",\"Botswana\",\"Brazil\",\"Brunei Darussalam\",\"Bulgaria\",\"Burkina Faso\",\"Burundi\",\"Cambodia\",\"Cameroon\",\"Canada\",\"Cape Verde\",\"Cayman Islands\",\"Central African Republic\",\"Chad\",\"Chile\",\"Chinese Taipei\",\"Colombia\",\"Comoros\",\"Congo\",\"Cook Islands\",\"Costa Rica\",\"Croatia\",\"Cuba\",\"Cyprus\",\"Czech Republic\",\"C\\u00f4te d'Ivoire\",\"Democratic Republic of Timor-Leste\",\"Democratic Republic of the Congo\",\"Denmark\",\"Djibouti\",\"Dominica\",\"Dominican Republic\",\"Ecuador\",\"Egypt\",\"El Salvador\",\"Equatorial Guinea\",\"Eritrea\",\"Estonia\",\"Eswatini\",\"Ethiopia\",\"Federated States of Micronesia\",\"Fiji\",\"Finland\",\"France\",\"Gabon\",\"Gambia\",\"Georgia\",\"Germany\",\"Ghana\",\"Great Britain\",\"Greece\",\"Grenada\",\"Guam\",\"Guatemala\",\"Guinea\",\"Guinea-Bissau\",\"Guyana\",\"Haiti\",\"Honduras\",\"Hong Kong, China\",\"Hungary\",\"Iceland\",\"India\",\"Indonesia\",\"Iraq\",\"Ireland\",\"Islamic Republic of Iran\",\"Israel\",\"Italy\",\"Jamaica\",\"Japan\",\"Jordan\",\"Kazakhstan\",\"Kenya\",\"Kiribati\",\"Kosovo\",\"Kuwait\",\"Kyrgyzstan\",\"Lao People's Democratic Republic\",\"Latvia\",\"Lebanon\",\"Lesotho\",\"Liberia\",\"Libya\",\"Liechtenstein\",\"Lithuania\",\"Luxembourg\",\"Madagascar\",\"Malawi\",\"Malaysia\",\"Maldives\",\"Mali\",\"Malta\",\"Marshall Islands\",\"Mauritania\",\"Mauritius\",\"Mexico\",\"Monaco\",\"Mongolia\",\"Montenegro\",\"Morocco\",\"Mozambique\",\"Myanmar\",\"Namibia\",\"Nauru\",\"Nepal\",\"Netherlands\",\"New Zealand\",\"Nicaragua\",\"Niger\",\"Nigeria\",\"North Macedonia\",\"Norway\",\"Oman\",\"Pakistan\",\"Palau\",\"Palestine\",\"Panama\",\"Papua New Guinea\",\"Paraguay\",\"People's Republic of China\",\"Peru\",\"Philippines\",\"Poland\",\"Portugal\",\"Puerto Rico\",\"Qatar\",\"ROC\",\"Refugee Olympic Team\",\"Republic of Korea\",\"Republic of Moldova\",\"Romania\",\"Rwanda\",\"Saint Kitts and Nevis\",\"Saint Lucia\",\"Samoa\",\"San Marino\",\"Sao Tome and Principe\",\"Saudi Arabia\",\"Senegal\",\"Serbia\",\"Seychelles\",\"Sierra Leone\",\"Singapore\",\"Slovakia\",\"Slovenia\",\"Solomon Islands\",\"Somalia\",\"South Africa\",\"South Sudan\",\"Spain\",\"Sri Lanka\",\"St Vincent and the Grenadines\",\"Sudan\",\"Suriname\",\"Sweden\",\"Switzerland\",\"Syrian Arab Republic\",\"Tajikistan\",\"Thailand\",\"Togo\",\"Tonga\",\"Trinidad and Tobago\",\"Tunisia\",\"Turkey\",\"Turkmenistan\",\"Tuvalu\",\"Uganda\",\"Ukraine\",\"United Arab Emirates\",\"United Republic of Tanzania\",\"United States of America\",\"Uruguay\",\"Uzbekistan\",\"Vanuatu\",\"Venezuela\",\"Vietnam\",\"Virgin Islands, British\",\"Virgin Islands, US\",\"Yemen\",\"Zambia\",\"Zimbabwe\"],\"xaxis\":\"x\",\"y\":[5,8,41,5,2,20,6,180,16,3,470,72,41,16,31,6,7,104,125,3,7,2,3,5,7,13,291,2,41,7,6,3,11,368,6,5,2,3,56,67,64,3,3,6,13,57,69,14,117,29,3,7,103,4,2,61,46,133,5,3,13,33,4,42,3,28,45,377,5,3,35,400,14,366,75,6,5,22,5,4,7,6,25,40,155,4,117,26,4,116,66,85,356,60,586,11,92,78,3,10,10,16,4,29,6,2,3,4,5,37,11,6,5,29,4,4,6,2,2,7,155,6,43,35,48,8,2,11,2,5,274,202,8,7,59,8,92,5,10,3,4,9,7,8,401,33,18,195,85,35,14,318,26,223,19,99,5,2,5,8,4,3,32,9,83,5,4,23,38,51,3,2,171,2,324,9,2,5,3,129,115,6,8,39,4,5,31,57,102,8,2,24,152,4,2,615,11,63,2,43,17,3,4,3,29,5],\"yaxis\":\"y\"}],                        {\"barmode\":\"relative\",\"legend\":{\"tracegroupgap\":0},\"margin\":{\"t\":60},\"template\":{\"data\":{\"bar\":[{\"error_x\":{\"color\":\"#2a3f5f\"},\"error_y\":{\"color\":\"#2a3f5f\"},\"marker\":{\"line\":{\"color\":\"#E5ECF6\",\"width\":0.5},\"pattern\":{\"fillmode\":\"overlay\",\"size\":10,\"solidity\":0.2}},\"type\":\"bar\"}],\"barpolar\":[{\"marker\":{\"line\":{\"color\":\"#E5ECF6\",\"width\":0.5},\"pattern\":{\"fillmode\":\"overlay\",\"size\":10,\"solidity\":0.2}},\"type\":\"barpolar\"}],\"carpet\":[{\"aaxis\":{\"endlinecolor\":\"#2a3f5f\",\"gridcolor\":\"white\",\"linecolor\":\"white\",\"minorgridcolor\":\"white\",\"startlinecolor\":\"#2a3f5f\"},\"baxis\":{\"endlinecolor\":\"#2a3f5f\",\"gridcolor\":\"white\",\"linecolor\":\"white\",\"minorgridcolor\":\"white\",\"startlinecolor\":\"#2a3f5f\"},\"type\":\"carpet\"}],\"choropleth\":[{\"colorbar\":{\"outlinewidth\":0,\"ticks\":\"\"},\"type\":\"choropleth\"}],\"contour\":[{\"colorbar\":{\"outlinewidth\":0,\"ticks\":\"\"},\"colorscale\":[[0.0,\"#0d0887\"],[0.1111111111111111,\"#46039f\"],[0.2222222222222222,\"#7201a8\"],[0.3333333333333333,\"#9c179e\"],[0.4444444444444444,\"#bd3786\"],[0.5555555555555556,\"#d8576b\"],[0.6666666666666666,\"#ed7953\"],[0.7777777777777778,\"#fb9f3a\"],[0.8888888888888888,\"#fdca26\"],[1.0,\"#f0f921\"]],\"type\":\"contour\"}],\"contourcarpet\":[{\"colorbar\":{\"outlinewidth\":0,\"ticks\":\"\"},\"type\":\"contourcarpet\"}],\"heatmap\":[{\"colorbar\":{\"outlinewidth\":0,\"ticks\":\"\"},\"colorscale\":[[0.0,\"#0d0887\"],[0.1111111111111111,\"#46039f\"],[0.2222222222222222,\"#7201a8\"],[0.3333333333333333,\"#9c179e\"],[0.4444444444444444,\"#bd3786\"],[0.5555555555555556,\"#d8576b\"],[0.6666666666666666,\"#ed7953\"],[0.7777777777777778,\"#fb9f3a\"],[0.8888888888888888,\"#fdca26\"],[1.0,\"#f0f921\"]],\"type\":\"heatmap\"}],\"heatmapgl\":[{\"colorbar\":{\"outlinewidth\":0,\"ticks\":\"\"},\"colorscale\":[[0.0,\"#0d0887\"],[0.1111111111111111,\"#46039f\"],[0.2222222222222222,\"#7201a8\"],[0.3333333333333333,\"#9c179e\"],[0.4444444444444444,\"#bd3786\"],[0.5555555555555556,\"#d8576b\"],[0.6666666666666666,\"#ed7953\"],[0.7777777777777778,\"#fb9f3a\"],[0.8888888888888888,\"#fdca26\"],[1.0,\"#f0f921\"]],\"type\":\"heatmapgl\"}],\"histogram\":[{\"marker\":{\"pattern\":{\"fillmode\":\"overlay\",\"size\":10,\"solidity\":0.2}},\"type\":\"histogram\"}],\"histogram2d\":[{\"colorbar\":{\"outlinewidth\":0,\"ticks\":\"\"},\"colorscale\":[[0.0,\"#0d0887\"],[0.1111111111111111,\"#46039f\"],[0.2222222222222222,\"#7201a8\"],[0.3333333333333333,\"#9c179e\"],[0.4444444444444444,\"#bd3786\"],[0.5555555555555556,\"#d8576b\"],[0.6666666666666666,\"#ed7953\"],[0.7777777777777778,\"#fb9f3a\"],[0.8888888888888888,\"#fdca26\"],[1.0,\"#f0f921\"]],\"type\":\"histogram2d\"}],\"histogram2dcontour\":[{\"colorbar\":{\"outlinewidth\":0,\"ticks\":\"\"},\"colorscale\":[[0.0,\"#0d0887\"],[0.1111111111111111,\"#46039f\"],[0.2222222222222222,\"#7201a8\"],[0.3333333333333333,\"#9c179e\"],[0.4444444444444444,\"#bd3786\"],[0.5555555555555556,\"#d8576b\"],[0.6666666666666666,\"#ed7953\"],[0.7777777777777778,\"#fb9f3a\"],[0.8888888888888888,\"#fdca26\"],[1.0,\"#f0f921\"]],\"type\":\"histogram2dcontour\"}],\"mesh3d\":[{\"colorbar\":{\"outlinewidth\":0,\"ticks\":\"\"},\"type\":\"mesh3d\"}],\"parcoords\":[{\"line\":{\"colorbar\":{\"outlinewidth\":0,\"ticks\":\"\"}},\"type\":\"parcoords\"}],\"pie\":[{\"automargin\":true,\"type\":\"pie\"}],\"scatter\":[{\"marker\":{\"colorbar\":{\"outlinewidth\":0,\"ticks\":\"\"}},\"type\":\"scatter\"}],\"scatter3d\":[{\"line\":{\"colorbar\":{\"outlinewidth\":0,\"ticks\":\"\"}},\"marker\":{\"colorbar\":{\"outlinewidth\":0,\"ticks\":\"\"}},\"type\":\"scatter3d\"}],\"scattercarpet\":[{\"marker\":{\"colorbar\":{\"outlinewidth\":0,\"ticks\":\"\"}},\"type\":\"scattercarpet\"}],\"scattergeo\":[{\"marker\":{\"colorbar\":{\"outlinewidth\":0,\"ticks\":\"\"}},\"type\":\"scattergeo\"}],\"scattergl\":[{\"marker\":{\"colorbar\":{\"outlinewidth\":0,\"ticks\":\"\"}},\"type\":\"scattergl\"}],\"scattermapbox\":[{\"marker\":{\"colorbar\":{\"outlinewidth\":0,\"ticks\":\"\"}},\"type\":\"scattermapbox\"}],\"scatterpolar\":[{\"marker\":{\"colorbar\":{\"outlinewidth\":0,\"ticks\":\"\"}},\"type\":\"scatterpolar\"}],\"scatterpolargl\":[{\"marker\":{\"colorbar\":{\"outlinewidth\":0,\"ticks\":\"\"}},\"type\":\"scatterpolargl\"}],\"scatterternary\":[{\"marker\":{\"colorbar\":{\"outlinewidth\":0,\"ticks\":\"\"}},\"type\":\"scatterternary\"}],\"surface\":[{\"colorbar\":{\"outlinewidth\":0,\"ticks\":\"\"},\"colorscale\":[[0.0,\"#0d0887\"],[0.1111111111111111,\"#46039f\"],[0.2222222222222222,\"#7201a8\"],[0.3333333333333333,\"#9c179e\"],[0.4444444444444444,\"#bd3786\"],[0.5555555555555556,\"#d8576b\"],[0.6666666666666666,\"#ed7953\"],[0.7777777777777778,\"#fb9f3a\"],[0.8888888888888888,\"#fdca26\"],[1.0,\"#f0f921\"]],\"type\":\"surface\"}],\"table\":[{\"cells\":{\"fill\":{\"color\":\"#EBF0F8\"},\"line\":{\"color\":\"white\"}},\"header\":{\"fill\":{\"color\":\"#C8D4E3\"},\"line\":{\"color\":\"white\"}},\"type\":\"table\"}]},\"layout\":{\"annotationdefaults\":{\"arrowcolor\":\"#2a3f5f\",\"arrowhead\":0,\"arrowwidth\":1},\"autotypenumbers\":\"strict\",\"coloraxis\":{\"colorbar\":{\"outlinewidth\":0,\"ticks\":\"\"}},\"colorscale\":{\"diverging\":[[0,\"#8e0152\"],[0.1,\"#c51b7d\"],[0.2,\"#de77ae\"],[0.3,\"#f1b6da\"],[0.4,\"#fde0ef\"],[0.5,\"#f7f7f7\"],[0.6,\"#e6f5d0\"],[0.7,\"#b8e186\"],[0.8,\"#7fbc41\"],[0.9,\"#4d9221\"],[1,\"#276419\"]],\"sequential\":[[0.0,\"#0d0887\"],[0.1111111111111111,\"#46039f\"],[0.2222222222222222,\"#7201a8\"],[0.3333333333333333,\"#9c179e\"],[0.4444444444444444,\"#bd3786\"],[0.5555555555555556,\"#d8576b\"],[0.6666666666666666,\"#ed7953\"],[0.7777777777777778,\"#fb9f3a\"],[0.8888888888888888,\"#fdca26\"],[1.0,\"#f0f921\"]],\"sequentialminus\":[[0.0,\"#0d0887\"],[0.1111111111111111,\"#46039f\"],[0.2222222222222222,\"#7201a8\"],[0.3333333333333333,\"#9c179e\"],[0.4444444444444444,\"#bd3786\"],[0.5555555555555556,\"#d8576b\"],[0.6666666666666666,\"#ed7953\"],[0.7777777777777778,\"#fb9f3a\"],[0.8888888888888888,\"#fdca26\"],[1.0,\"#f0f921\"]]},\"colorway\":[\"#636efa\",\"#EF553B\",\"#00cc96\",\"#ab63fa\",\"#FFA15A\",\"#19d3f3\",\"#FF6692\",\"#B6E880\",\"#FF97FF\",\"#FECB52\"],\"font\":{\"color\":\"#2a3f5f\"},\"geo\":{\"bgcolor\":\"white\",\"lakecolor\":\"white\",\"landcolor\":\"#E5ECF6\",\"showlakes\":true,\"showland\":true,\"subunitcolor\":\"white\"},\"hoverlabel\":{\"align\":\"left\"},\"hovermode\":\"closest\",\"mapbox\":{\"style\":\"light\"},\"paper_bgcolor\":\"white\",\"plot_bgcolor\":\"#E5ECF6\",\"polar\":{\"angularaxis\":{\"gridcolor\":\"white\",\"linecolor\":\"white\",\"ticks\":\"\"},\"bgcolor\":\"#E5ECF6\",\"radialaxis\":{\"gridcolor\":\"white\",\"linecolor\":\"white\",\"ticks\":\"\"}},\"scene\":{\"xaxis\":{\"backgroundcolor\":\"#E5ECF6\",\"gridcolor\":\"white\",\"gridwidth\":2,\"linecolor\":\"white\",\"showbackground\":true,\"ticks\":\"\",\"zerolinecolor\":\"white\"},\"yaxis\":{\"backgroundcolor\":\"#E5ECF6\",\"gridcolor\":\"white\",\"gridwidth\":2,\"linecolor\":\"white\",\"showbackground\":true,\"ticks\":\"\",\"zerolinecolor\":\"white\"},\"zaxis\":{\"backgroundcolor\":\"#E5ECF6\",\"gridcolor\":\"white\",\"gridwidth\":2,\"linecolor\":\"white\",\"showbackground\":true,\"ticks\":\"\",\"zerolinecolor\":\"white\"}},\"shapedefaults\":{\"line\":{\"color\":\"#2a3f5f\"}},\"ternary\":{\"aaxis\":{\"gridcolor\":\"white\",\"linecolor\":\"white\",\"ticks\":\"\"},\"baxis\":{\"gridcolor\":\"white\",\"linecolor\":\"white\",\"ticks\":\"\"},\"bgcolor\":\"#E5ECF6\",\"caxis\":{\"gridcolor\":\"white\",\"linecolor\":\"white\",\"ticks\":\"\"}},\"title\":{\"x\":0.05},\"xaxis\":{\"automargin\":true,\"gridcolor\":\"white\",\"linecolor\":\"white\",\"ticks\":\"\",\"title\":{\"standoff\":15},\"zerolinecolor\":\"white\",\"zerolinewidth\":2},\"yaxis\":{\"automargin\":true,\"gridcolor\":\"white\",\"linecolor\":\"white\",\"ticks\":\"\",\"title\":{\"standoff\":15},\"zerolinecolor\":\"white\",\"zerolinewidth\":2}}},\"xaxis\":{\"anchor\":\"y\",\"domain\":[0.0,1.0],\"title\":{\"text\":\"Country\"}},\"yaxis\":{\"anchor\":\"x\",\"domain\":[0.0,1.0],\"title\":{\"text\":\"Name\"}}},                        {\"responsive\": true}                    ).then(function(){\n",
       "                            \n",
       "var gd = document.getElementById('86205c23-97f5-48da-a2c3-d768f2cecc4f');\n",
       "var x = new MutationObserver(function (mutations, observer) {{\n",
       "        var display = window.getComputedStyle(gd).display;\n",
       "        if (!display || display === 'none') {{\n",
       "            console.log([gd, 'removed!']);\n",
       "            Plotly.purge(gd);\n",
       "            observer.disconnect();\n",
       "        }}\n",
       "}});\n",
       "\n",
       "// Listen for the removal of the full notebook cells\n",
       "var notebookContainer = gd.closest('#notebook-container');\n",
       "if (notebookContainer) {{\n",
       "    x.observe(notebookContainer, {childList: true});\n",
       "}}\n",
       "\n",
       "// Listen for the clearing of the current output cell\n",
       "var outputEl = gd.closest('.output');\n",
       "if (outputEl) {{\n",
       "    x.observe(outputEl, {childList: true});\n",
       "}}\n",
       "\n",
       "                        })                };                });            </script>        </div>"
      ]
     },
     "metadata": {},
     "output_type": "display_data"
    }
   ],
   "source": [
    "fig = px.bar(conteoMundial, y=conteoMundial['Name'])\n",
    "fig.show()"
   ]
  },
  {
   "cell_type": "code",
   "execution_count": 77,
   "metadata": {},
   "outputs": [
    {
     "data": {
      "application/vnd.plotly.v1+json": {
       "config": {
        "plotlyServerURL": "https://plot.ly"
       },
       "data": [],
       "layout": {
        "legend": {
         "tracegroupgap": 0
        },
        "margin": {
         "t": 60
        },
        "template": {
         "data": {
          "bar": [
           {
            "error_x": {
             "color": "#2a3f5f"
            },
            "error_y": {
             "color": "#2a3f5f"
            },
            "marker": {
             "line": {
              "color": "#E5ECF6",
              "width": 0.5
             },
             "pattern": {
              "fillmode": "overlay",
              "size": 10,
              "solidity": 0.2
             }
            },
            "type": "bar"
           }
          ],
          "barpolar": [
           {
            "marker": {
             "line": {
              "color": "#E5ECF6",
              "width": 0.5
             },
             "pattern": {
              "fillmode": "overlay",
              "size": 10,
              "solidity": 0.2
             }
            },
            "type": "barpolar"
           }
          ],
          "carpet": [
           {
            "aaxis": {
             "endlinecolor": "#2a3f5f",
             "gridcolor": "white",
             "linecolor": "white",
             "minorgridcolor": "white",
             "startlinecolor": "#2a3f5f"
            },
            "baxis": {
             "endlinecolor": "#2a3f5f",
             "gridcolor": "white",
             "linecolor": "white",
             "minorgridcolor": "white",
             "startlinecolor": "#2a3f5f"
            },
            "type": "carpet"
           }
          ],
          "choropleth": [
           {
            "colorbar": {
             "outlinewidth": 0,
             "ticks": ""
            },
            "type": "choropleth"
           }
          ],
          "contour": [
           {
            "colorbar": {
             "outlinewidth": 0,
             "ticks": ""
            },
            "colorscale": [
             [
              0,
              "#0d0887"
             ],
             [
              0.1111111111111111,
              "#46039f"
             ],
             [
              0.2222222222222222,
              "#7201a8"
             ],
             [
              0.3333333333333333,
              "#9c179e"
             ],
             [
              0.4444444444444444,
              "#bd3786"
             ],
             [
              0.5555555555555556,
              "#d8576b"
             ],
             [
              0.6666666666666666,
              "#ed7953"
             ],
             [
              0.7777777777777778,
              "#fb9f3a"
             ],
             [
              0.8888888888888888,
              "#fdca26"
             ],
             [
              1,
              "#f0f921"
             ]
            ],
            "type": "contour"
           }
          ],
          "contourcarpet": [
           {
            "colorbar": {
             "outlinewidth": 0,
             "ticks": ""
            },
            "type": "contourcarpet"
           }
          ],
          "heatmap": [
           {
            "colorbar": {
             "outlinewidth": 0,
             "ticks": ""
            },
            "colorscale": [
             [
              0,
              "#0d0887"
             ],
             [
              0.1111111111111111,
              "#46039f"
             ],
             [
              0.2222222222222222,
              "#7201a8"
             ],
             [
              0.3333333333333333,
              "#9c179e"
             ],
             [
              0.4444444444444444,
              "#bd3786"
             ],
             [
              0.5555555555555556,
              "#d8576b"
             ],
             [
              0.6666666666666666,
              "#ed7953"
             ],
             [
              0.7777777777777778,
              "#fb9f3a"
             ],
             [
              0.8888888888888888,
              "#fdca26"
             ],
             [
              1,
              "#f0f921"
             ]
            ],
            "type": "heatmap"
           }
          ],
          "heatmapgl": [
           {
            "colorbar": {
             "outlinewidth": 0,
             "ticks": ""
            },
            "colorscale": [
             [
              0,
              "#0d0887"
             ],
             [
              0.1111111111111111,
              "#46039f"
             ],
             [
              0.2222222222222222,
              "#7201a8"
             ],
             [
              0.3333333333333333,
              "#9c179e"
             ],
             [
              0.4444444444444444,
              "#bd3786"
             ],
             [
              0.5555555555555556,
              "#d8576b"
             ],
             [
              0.6666666666666666,
              "#ed7953"
             ],
             [
              0.7777777777777778,
              "#fb9f3a"
             ],
             [
              0.8888888888888888,
              "#fdca26"
             ],
             [
              1,
              "#f0f921"
             ]
            ],
            "type": "heatmapgl"
           }
          ],
          "histogram": [
           {
            "marker": {
             "pattern": {
              "fillmode": "overlay",
              "size": 10,
              "solidity": 0.2
             }
            },
            "type": "histogram"
           }
          ],
          "histogram2d": [
           {
            "colorbar": {
             "outlinewidth": 0,
             "ticks": ""
            },
            "colorscale": [
             [
              0,
              "#0d0887"
             ],
             [
              0.1111111111111111,
              "#46039f"
             ],
             [
              0.2222222222222222,
              "#7201a8"
             ],
             [
              0.3333333333333333,
              "#9c179e"
             ],
             [
              0.4444444444444444,
              "#bd3786"
             ],
             [
              0.5555555555555556,
              "#d8576b"
             ],
             [
              0.6666666666666666,
              "#ed7953"
             ],
             [
              0.7777777777777778,
              "#fb9f3a"
             ],
             [
              0.8888888888888888,
              "#fdca26"
             ],
             [
              1,
              "#f0f921"
             ]
            ],
            "type": "histogram2d"
           }
          ],
          "histogram2dcontour": [
           {
            "colorbar": {
             "outlinewidth": 0,
             "ticks": ""
            },
            "colorscale": [
             [
              0,
              "#0d0887"
             ],
             [
              0.1111111111111111,
              "#46039f"
             ],
             [
              0.2222222222222222,
              "#7201a8"
             ],
             [
              0.3333333333333333,
              "#9c179e"
             ],
             [
              0.4444444444444444,
              "#bd3786"
             ],
             [
              0.5555555555555556,
              "#d8576b"
             ],
             [
              0.6666666666666666,
              "#ed7953"
             ],
             [
              0.7777777777777778,
              "#fb9f3a"
             ],
             [
              0.8888888888888888,
              "#fdca26"
             ],
             [
              1,
              "#f0f921"
             ]
            ],
            "type": "histogram2dcontour"
           }
          ],
          "mesh3d": [
           {
            "colorbar": {
             "outlinewidth": 0,
             "ticks": ""
            },
            "type": "mesh3d"
           }
          ],
          "parcoords": [
           {
            "line": {
             "colorbar": {
              "outlinewidth": 0,
              "ticks": ""
             }
            },
            "type": "parcoords"
           }
          ],
          "pie": [
           {
            "automargin": true,
            "type": "pie"
           }
          ],
          "scatter": [
           {
            "marker": {
             "colorbar": {
              "outlinewidth": 0,
              "ticks": ""
             }
            },
            "type": "scatter"
           }
          ],
          "scatter3d": [
           {
            "line": {
             "colorbar": {
              "outlinewidth": 0,
              "ticks": ""
             }
            },
            "marker": {
             "colorbar": {
              "outlinewidth": 0,
              "ticks": ""
             }
            },
            "type": "scatter3d"
           }
          ],
          "scattercarpet": [
           {
            "marker": {
             "colorbar": {
              "outlinewidth": 0,
              "ticks": ""
             }
            },
            "type": "scattercarpet"
           }
          ],
          "scattergeo": [
           {
            "marker": {
             "colorbar": {
              "outlinewidth": 0,
              "ticks": ""
             }
            },
            "type": "scattergeo"
           }
          ],
          "scattergl": [
           {
            "marker": {
             "colorbar": {
              "outlinewidth": 0,
              "ticks": ""
             }
            },
            "type": "scattergl"
           }
          ],
          "scattermapbox": [
           {
            "marker": {
             "colorbar": {
              "outlinewidth": 0,
              "ticks": ""
             }
            },
            "type": "scattermapbox"
           }
          ],
          "scatterpolar": [
           {
            "marker": {
             "colorbar": {
              "outlinewidth": 0,
              "ticks": ""
             }
            },
            "type": "scatterpolar"
           }
          ],
          "scatterpolargl": [
           {
            "marker": {
             "colorbar": {
              "outlinewidth": 0,
              "ticks": ""
             }
            },
            "type": "scatterpolargl"
           }
          ],
          "scatterternary": [
           {
            "marker": {
             "colorbar": {
              "outlinewidth": 0,
              "ticks": ""
             }
            },
            "type": "scatterternary"
           }
          ],
          "surface": [
           {
            "colorbar": {
             "outlinewidth": 0,
             "ticks": ""
            },
            "colorscale": [
             [
              0,
              "#0d0887"
             ],
             [
              0.1111111111111111,
              "#46039f"
             ],
             [
              0.2222222222222222,
              "#7201a8"
             ],
             [
              0.3333333333333333,
              "#9c179e"
             ],
             [
              0.4444444444444444,
              "#bd3786"
             ],
             [
              0.5555555555555556,
              "#d8576b"
             ],
             [
              0.6666666666666666,
              "#ed7953"
             ],
             [
              0.7777777777777778,
              "#fb9f3a"
             ],
             [
              0.8888888888888888,
              "#fdca26"
             ],
             [
              1,
              "#f0f921"
             ]
            ],
            "type": "surface"
           }
          ],
          "table": [
           {
            "cells": {
             "fill": {
              "color": "#EBF0F8"
             },
             "line": {
              "color": "white"
             }
            },
            "header": {
             "fill": {
              "color": "#C8D4E3"
             },
             "line": {
              "color": "white"
             }
            },
            "type": "table"
           }
          ]
         },
         "layout": {
          "annotationdefaults": {
           "arrowcolor": "#2a3f5f",
           "arrowhead": 0,
           "arrowwidth": 1
          },
          "autotypenumbers": "strict",
          "coloraxis": {
           "colorbar": {
            "outlinewidth": 0,
            "ticks": ""
           }
          },
          "colorscale": {
           "diverging": [
            [
             0,
             "#8e0152"
            ],
            [
             0.1,
             "#c51b7d"
            ],
            [
             0.2,
             "#de77ae"
            ],
            [
             0.3,
             "#f1b6da"
            ],
            [
             0.4,
             "#fde0ef"
            ],
            [
             0.5,
             "#f7f7f7"
            ],
            [
             0.6,
             "#e6f5d0"
            ],
            [
             0.7,
             "#b8e186"
            ],
            [
             0.8,
             "#7fbc41"
            ],
            [
             0.9,
             "#4d9221"
            ],
            [
             1,
             "#276419"
            ]
           ],
           "sequential": [
            [
             0,
             "#0d0887"
            ],
            [
             0.1111111111111111,
             "#46039f"
            ],
            [
             0.2222222222222222,
             "#7201a8"
            ],
            [
             0.3333333333333333,
             "#9c179e"
            ],
            [
             0.4444444444444444,
             "#bd3786"
            ],
            [
             0.5555555555555556,
             "#d8576b"
            ],
            [
             0.6666666666666666,
             "#ed7953"
            ],
            [
             0.7777777777777778,
             "#fb9f3a"
            ],
            [
             0.8888888888888888,
             "#fdca26"
            ],
            [
             1,
             "#f0f921"
            ]
           ],
           "sequentialminus": [
            [
             0,
             "#0d0887"
            ],
            [
             0.1111111111111111,
             "#46039f"
            ],
            [
             0.2222222222222222,
             "#7201a8"
            ],
            [
             0.3333333333333333,
             "#9c179e"
            ],
            [
             0.4444444444444444,
             "#bd3786"
            ],
            [
             0.5555555555555556,
             "#d8576b"
            ],
            [
             0.6666666666666666,
             "#ed7953"
            ],
            [
             0.7777777777777778,
             "#fb9f3a"
            ],
            [
             0.8888888888888888,
             "#fdca26"
            ],
            [
             1,
             "#f0f921"
            ]
           ]
          },
          "colorway": [
           "#636efa",
           "#EF553B",
           "#00cc96",
           "#ab63fa",
           "#FFA15A",
           "#19d3f3",
           "#FF6692",
           "#B6E880",
           "#FF97FF",
           "#FECB52"
          ],
          "font": {
           "color": "#2a3f5f"
          },
          "geo": {
           "bgcolor": "white",
           "lakecolor": "white",
           "landcolor": "#E5ECF6",
           "showlakes": true,
           "showland": true,
           "subunitcolor": "white"
          },
          "hoverlabel": {
           "align": "left"
          },
          "hovermode": "closest",
          "mapbox": {
           "style": "light"
          },
          "paper_bgcolor": "white",
          "plot_bgcolor": "#E5ECF6",
          "polar": {
           "angularaxis": {
            "gridcolor": "white",
            "linecolor": "white",
            "ticks": ""
           },
           "bgcolor": "#E5ECF6",
           "radialaxis": {
            "gridcolor": "white",
            "linecolor": "white",
            "ticks": ""
           }
          },
          "scene": {
           "xaxis": {
            "backgroundcolor": "#E5ECF6",
            "gridcolor": "white",
            "gridwidth": 2,
            "linecolor": "white",
            "showbackground": true,
            "ticks": "",
            "zerolinecolor": "white"
           },
           "yaxis": {
            "backgroundcolor": "#E5ECF6",
            "gridcolor": "white",
            "gridwidth": 2,
            "linecolor": "white",
            "showbackground": true,
            "ticks": "",
            "zerolinecolor": "white"
           },
           "zaxis": {
            "backgroundcolor": "#E5ECF6",
            "gridcolor": "white",
            "gridwidth": 2,
            "linecolor": "white",
            "showbackground": true,
            "ticks": "",
            "zerolinecolor": "white"
           }
          },
          "shapedefaults": {
           "line": {
            "color": "#2a3f5f"
           }
          },
          "ternary": {
           "aaxis": {
            "gridcolor": "white",
            "linecolor": "white",
            "ticks": ""
           },
           "baxis": {
            "gridcolor": "white",
            "linecolor": "white",
            "ticks": ""
           },
           "bgcolor": "#E5ECF6",
           "caxis": {
            "gridcolor": "white",
            "linecolor": "white",
            "ticks": ""
           }
          },
          "title": {
           "x": 0.05
          },
          "xaxis": {
           "automargin": true,
           "gridcolor": "white",
           "linecolor": "white",
           "ticks": "",
           "title": {
            "standoff": 15
           },
           "zerolinecolor": "white",
           "zerolinewidth": 2
          },
          "yaxis": {
           "automargin": true,
           "gridcolor": "white",
           "linecolor": "white",
           "ticks": "",
           "title": {
            "standoff": 15
           },
           "zerolinecolor": "white",
           "zerolinewidth": 2
          }
         }
        }
       }
      },
      "text/html": [
       "<div>                            <div id=\"c7826fbf-da59-47d0-bfc4-956456519738\" class=\"plotly-graph-div\" style=\"height:525px; width:100%;\"></div>            <script type=\"text/javascript\">                require([\"plotly\"], function(Plotly) {                    window.PLOTLYENV=window.PLOTLYENV || {};                                    if (document.getElementById(\"c7826fbf-da59-47d0-bfc4-956456519738\")) {                    Plotly.newPlot(                        \"c7826fbf-da59-47d0-bfc4-956456519738\",                        [],                        {\"legend\":{\"tracegroupgap\":0},\"margin\":{\"t\":60},\"template\":{\"data\":{\"bar\":[{\"error_x\":{\"color\":\"#2a3f5f\"},\"error_y\":{\"color\":\"#2a3f5f\"},\"marker\":{\"line\":{\"color\":\"#E5ECF6\",\"width\":0.5},\"pattern\":{\"fillmode\":\"overlay\",\"size\":10,\"solidity\":0.2}},\"type\":\"bar\"}],\"barpolar\":[{\"marker\":{\"line\":{\"color\":\"#E5ECF6\",\"width\":0.5},\"pattern\":{\"fillmode\":\"overlay\",\"size\":10,\"solidity\":0.2}},\"type\":\"barpolar\"}],\"carpet\":[{\"aaxis\":{\"endlinecolor\":\"#2a3f5f\",\"gridcolor\":\"white\",\"linecolor\":\"white\",\"minorgridcolor\":\"white\",\"startlinecolor\":\"#2a3f5f\"},\"baxis\":{\"endlinecolor\":\"#2a3f5f\",\"gridcolor\":\"white\",\"linecolor\":\"white\",\"minorgridcolor\":\"white\",\"startlinecolor\":\"#2a3f5f\"},\"type\":\"carpet\"}],\"choropleth\":[{\"colorbar\":{\"outlinewidth\":0,\"ticks\":\"\"},\"type\":\"choropleth\"}],\"contour\":[{\"colorbar\":{\"outlinewidth\":0,\"ticks\":\"\"},\"colorscale\":[[0.0,\"#0d0887\"],[0.1111111111111111,\"#46039f\"],[0.2222222222222222,\"#7201a8\"],[0.3333333333333333,\"#9c179e\"],[0.4444444444444444,\"#bd3786\"],[0.5555555555555556,\"#d8576b\"],[0.6666666666666666,\"#ed7953\"],[0.7777777777777778,\"#fb9f3a\"],[0.8888888888888888,\"#fdca26\"],[1.0,\"#f0f921\"]],\"type\":\"contour\"}],\"contourcarpet\":[{\"colorbar\":{\"outlinewidth\":0,\"ticks\":\"\"},\"type\":\"contourcarpet\"}],\"heatmap\":[{\"colorbar\":{\"outlinewidth\":0,\"ticks\":\"\"},\"colorscale\":[[0.0,\"#0d0887\"],[0.1111111111111111,\"#46039f\"],[0.2222222222222222,\"#7201a8\"],[0.3333333333333333,\"#9c179e\"],[0.4444444444444444,\"#bd3786\"],[0.5555555555555556,\"#d8576b\"],[0.6666666666666666,\"#ed7953\"],[0.7777777777777778,\"#fb9f3a\"],[0.8888888888888888,\"#fdca26\"],[1.0,\"#f0f921\"]],\"type\":\"heatmap\"}],\"heatmapgl\":[{\"colorbar\":{\"outlinewidth\":0,\"ticks\":\"\"},\"colorscale\":[[0.0,\"#0d0887\"],[0.1111111111111111,\"#46039f\"],[0.2222222222222222,\"#7201a8\"],[0.3333333333333333,\"#9c179e\"],[0.4444444444444444,\"#bd3786\"],[0.5555555555555556,\"#d8576b\"],[0.6666666666666666,\"#ed7953\"],[0.7777777777777778,\"#fb9f3a\"],[0.8888888888888888,\"#fdca26\"],[1.0,\"#f0f921\"]],\"type\":\"heatmapgl\"}],\"histogram\":[{\"marker\":{\"pattern\":{\"fillmode\":\"overlay\",\"size\":10,\"solidity\":0.2}},\"type\":\"histogram\"}],\"histogram2d\":[{\"colorbar\":{\"outlinewidth\":0,\"ticks\":\"\"},\"colorscale\":[[0.0,\"#0d0887\"],[0.1111111111111111,\"#46039f\"],[0.2222222222222222,\"#7201a8\"],[0.3333333333333333,\"#9c179e\"],[0.4444444444444444,\"#bd3786\"],[0.5555555555555556,\"#d8576b\"],[0.6666666666666666,\"#ed7953\"],[0.7777777777777778,\"#fb9f3a\"],[0.8888888888888888,\"#fdca26\"],[1.0,\"#f0f921\"]],\"type\":\"histogram2d\"}],\"histogram2dcontour\":[{\"colorbar\":{\"outlinewidth\":0,\"ticks\":\"\"},\"colorscale\":[[0.0,\"#0d0887\"],[0.1111111111111111,\"#46039f\"],[0.2222222222222222,\"#7201a8\"],[0.3333333333333333,\"#9c179e\"],[0.4444444444444444,\"#bd3786\"],[0.5555555555555556,\"#d8576b\"],[0.6666666666666666,\"#ed7953\"],[0.7777777777777778,\"#fb9f3a\"],[0.8888888888888888,\"#fdca26\"],[1.0,\"#f0f921\"]],\"type\":\"histogram2dcontour\"}],\"mesh3d\":[{\"colorbar\":{\"outlinewidth\":0,\"ticks\":\"\"},\"type\":\"mesh3d\"}],\"parcoords\":[{\"line\":{\"colorbar\":{\"outlinewidth\":0,\"ticks\":\"\"}},\"type\":\"parcoords\"}],\"pie\":[{\"automargin\":true,\"type\":\"pie\"}],\"scatter\":[{\"marker\":{\"colorbar\":{\"outlinewidth\":0,\"ticks\":\"\"}},\"type\":\"scatter\"}],\"scatter3d\":[{\"line\":{\"colorbar\":{\"outlinewidth\":0,\"ticks\":\"\"}},\"marker\":{\"colorbar\":{\"outlinewidth\":0,\"ticks\":\"\"}},\"type\":\"scatter3d\"}],\"scattercarpet\":[{\"marker\":{\"colorbar\":{\"outlinewidth\":0,\"ticks\":\"\"}},\"type\":\"scattercarpet\"}],\"scattergeo\":[{\"marker\":{\"colorbar\":{\"outlinewidth\":0,\"ticks\":\"\"}},\"type\":\"scattergeo\"}],\"scattergl\":[{\"marker\":{\"colorbar\":{\"outlinewidth\":0,\"ticks\":\"\"}},\"type\":\"scattergl\"}],\"scattermapbox\":[{\"marker\":{\"colorbar\":{\"outlinewidth\":0,\"ticks\":\"\"}},\"type\":\"scattermapbox\"}],\"scatterpolar\":[{\"marker\":{\"colorbar\":{\"outlinewidth\":0,\"ticks\":\"\"}},\"type\":\"scatterpolar\"}],\"scatterpolargl\":[{\"marker\":{\"colorbar\":{\"outlinewidth\":0,\"ticks\":\"\"}},\"type\":\"scatterpolargl\"}],\"scatterternary\":[{\"marker\":{\"colorbar\":{\"outlinewidth\":0,\"ticks\":\"\"}},\"type\":\"scatterternary\"}],\"surface\":[{\"colorbar\":{\"outlinewidth\":0,\"ticks\":\"\"},\"colorscale\":[[0.0,\"#0d0887\"],[0.1111111111111111,\"#46039f\"],[0.2222222222222222,\"#7201a8\"],[0.3333333333333333,\"#9c179e\"],[0.4444444444444444,\"#bd3786\"],[0.5555555555555556,\"#d8576b\"],[0.6666666666666666,\"#ed7953\"],[0.7777777777777778,\"#fb9f3a\"],[0.8888888888888888,\"#fdca26\"],[1.0,\"#f0f921\"]],\"type\":\"surface\"}],\"table\":[{\"cells\":{\"fill\":{\"color\":\"#EBF0F8\"},\"line\":{\"color\":\"white\"}},\"header\":{\"fill\":{\"color\":\"#C8D4E3\"},\"line\":{\"color\":\"white\"}},\"type\":\"table\"}]},\"layout\":{\"annotationdefaults\":{\"arrowcolor\":\"#2a3f5f\",\"arrowhead\":0,\"arrowwidth\":1},\"autotypenumbers\":\"strict\",\"coloraxis\":{\"colorbar\":{\"outlinewidth\":0,\"ticks\":\"\"}},\"colorscale\":{\"diverging\":[[0,\"#8e0152\"],[0.1,\"#c51b7d\"],[0.2,\"#de77ae\"],[0.3,\"#f1b6da\"],[0.4,\"#fde0ef\"],[0.5,\"#f7f7f7\"],[0.6,\"#e6f5d0\"],[0.7,\"#b8e186\"],[0.8,\"#7fbc41\"],[0.9,\"#4d9221\"],[1,\"#276419\"]],\"sequential\":[[0.0,\"#0d0887\"],[0.1111111111111111,\"#46039f\"],[0.2222222222222222,\"#7201a8\"],[0.3333333333333333,\"#9c179e\"],[0.4444444444444444,\"#bd3786\"],[0.5555555555555556,\"#d8576b\"],[0.6666666666666666,\"#ed7953\"],[0.7777777777777778,\"#fb9f3a\"],[0.8888888888888888,\"#fdca26\"],[1.0,\"#f0f921\"]],\"sequentialminus\":[[0.0,\"#0d0887\"],[0.1111111111111111,\"#46039f\"],[0.2222222222222222,\"#7201a8\"],[0.3333333333333333,\"#9c179e\"],[0.4444444444444444,\"#bd3786\"],[0.5555555555555556,\"#d8576b\"],[0.6666666666666666,\"#ed7953\"],[0.7777777777777778,\"#fb9f3a\"],[0.8888888888888888,\"#fdca26\"],[1.0,\"#f0f921\"]]},\"colorway\":[\"#636efa\",\"#EF553B\",\"#00cc96\",\"#ab63fa\",\"#FFA15A\",\"#19d3f3\",\"#FF6692\",\"#B6E880\",\"#FF97FF\",\"#FECB52\"],\"font\":{\"color\":\"#2a3f5f\"},\"geo\":{\"bgcolor\":\"white\",\"lakecolor\":\"white\",\"landcolor\":\"#E5ECF6\",\"showlakes\":true,\"showland\":true,\"subunitcolor\":\"white\"},\"hoverlabel\":{\"align\":\"left\"},\"hovermode\":\"closest\",\"mapbox\":{\"style\":\"light\"},\"paper_bgcolor\":\"white\",\"plot_bgcolor\":\"#E5ECF6\",\"polar\":{\"angularaxis\":{\"gridcolor\":\"white\",\"linecolor\":\"white\",\"ticks\":\"\"},\"bgcolor\":\"#E5ECF6\",\"radialaxis\":{\"gridcolor\":\"white\",\"linecolor\":\"white\",\"ticks\":\"\"}},\"scene\":{\"xaxis\":{\"backgroundcolor\":\"#E5ECF6\",\"gridcolor\":\"white\",\"gridwidth\":2,\"linecolor\":\"white\",\"showbackground\":true,\"ticks\":\"\",\"zerolinecolor\":\"white\"},\"yaxis\":{\"backgroundcolor\":\"#E5ECF6\",\"gridcolor\":\"white\",\"gridwidth\":2,\"linecolor\":\"white\",\"showbackground\":true,\"ticks\":\"\",\"zerolinecolor\":\"white\"},\"zaxis\":{\"backgroundcolor\":\"#E5ECF6\",\"gridcolor\":\"white\",\"gridwidth\":2,\"linecolor\":\"white\",\"showbackground\":true,\"ticks\":\"\",\"zerolinecolor\":\"white\"}},\"shapedefaults\":{\"line\":{\"color\":\"#2a3f5f\"}},\"ternary\":{\"aaxis\":{\"gridcolor\":\"white\",\"linecolor\":\"white\",\"ticks\":\"\"},\"baxis\":{\"gridcolor\":\"white\",\"linecolor\":\"white\",\"ticks\":\"\"},\"bgcolor\":\"#E5ECF6\",\"caxis\":{\"gridcolor\":\"white\",\"linecolor\":\"white\",\"ticks\":\"\"}},\"title\":{\"x\":0.05},\"xaxis\":{\"automargin\":true,\"gridcolor\":\"white\",\"linecolor\":\"white\",\"ticks\":\"\",\"title\":{\"standoff\":15},\"zerolinecolor\":\"white\",\"zerolinewidth\":2},\"yaxis\":{\"automargin\":true,\"gridcolor\":\"white\",\"linecolor\":\"white\",\"ticks\":\"\",\"title\":{\"standoff\":15},\"zerolinecolor\":\"white\",\"zerolinewidth\":2}}}},                        {\"responsive\": true}                    ).then(function(){\n",
       "                            \n",
       "var gd = document.getElementById('c7826fbf-da59-47d0-bfc4-956456519738');\n",
       "var x = new MutationObserver(function (mutations, observer) {{\n",
       "        var display = window.getComputedStyle(gd).display;\n",
       "        if (!display || display === 'none') {{\n",
       "            console.log([gd, 'removed!']);\n",
       "            Plotly.purge(gd);\n",
       "            observer.disconnect();\n",
       "        }}\n",
       "}});\n",
       "\n",
       "// Listen for the removal of the full notebook cells\n",
       "var notebookContainer = gd.closest('#notebook-container');\n",
       "if (notebookContainer) {{\n",
       "    x.observe(notebookContainer, {childList: true});\n",
       "}}\n",
       "\n",
       "// Listen for the clearing of the current output cell\n",
       "var outputEl = gd.closest('.output');\n",
       "if (outputEl) {{\n",
       "    x.observe(outputEl, {childList: true});\n",
       "}}\n",
       "\n",
       "                        })                };                });            </script>        </div>"
      ]
     },
     "metadata": {},
     "output_type": "display_data"
    }
   ],
   "source": [
    "fig2 = px.pie(df)\n",
    "fig2.show()"
   ]
  },
  {
   "cell_type": "code",
   "execution_count": null,
   "metadata": {},
   "outputs": [],
   "source": []
  }
 ],
 "metadata": {
  "kernelspec": {
   "display_name": "Python 3",
   "language": "python",
   "name": "python3"
  },
  "language_info": {
   "codemirror_mode": {
    "name": "ipython",
    "version": 3
   },
   "file_extension": ".py",
   "mimetype": "text/x-python",
   "name": "python",
   "nbconvert_exporter": "python",
   "pygments_lexer": "ipython3",
   "version": "3.8.5"
  }
 },
 "nbformat": 4,
 "nbformat_minor": 4
}
