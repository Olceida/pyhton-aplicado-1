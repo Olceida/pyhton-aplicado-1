{
 "cells": [
  {
   "cell_type": "code",
   "execution_count": 1,
   "metadata": {},
   "outputs": [],
   "source": [
    "import requests\n",
    "import json"
   ]
  },
  {
   "cell_type": "code",
   "execution_count": 3,
   "metadata": {},
   "outputs": [],
   "source": []
  },
  {
   "cell_type": "code",
   "execution_count": 28,
   "metadata": {},
   "outputs": [],
   "source": [
    "token = \"10226212519443683\"\n",
    "aidi = \"213\"\n",
    "base_url = f\"https://superheroapi.com/api/{token}/{aidi}\""
   ]
  },
  {
   "cell_type": "code",
   "execution_count": 29,
   "metadata": {},
   "outputs": [
    {
     "data": {
      "text/plain": [
       "200"
      ]
     },
     "execution_count": 29,
     "metadata": {},
     "output_type": "execute_result"
    }
   ],
   "source": [
    "data = requests.get(base_url)\n",
    "data.status_code"
   ]
  },
  {
   "cell_type": "code",
   "execution_count": 30,
   "metadata": {},
   "outputs": [
    {
     "data": {
      "text/plain": [
       "b'{\"response\":\"success\",\"id\":\"213\",\"name\":\"Deadpool\",\"powerstats\":{\"intelligence\":\"69\",\"strength\":\"32\",\"speed\":\"50\",\"durability\":\"100\",\"power\":\"100\",\"combat\":\"100\"},\"biography\":{\"full-name\":\"Wade Wilson\",\"alter-egos\":\"Evil Deadpool, Venompool\",\"aliases\":[\"Wade Wilson\",\"Jack\",\"Chiyonosake (\\\\\"the Wolf of the Rice Wine\\\\\")\",\"Rhodes\",\"Corpus\",\"Lopez\",\"Hobgoblin\",\"Thom Cruz\",\"Peter Parker\"],\"place-of-birth\":\"Canada\",\"first-appearance\":\"New Mutants #98 (February, 1991)\",\"publisher\":\"Evil Deadpool\",\"alignment\":\"neutral\"},\"appearance\":{\"gender\":\"Male\",\"race\":\"Mutant\",\"height\":[\"6\\'2\",\"188 cm\"],\"weight\":[\"210 lb\",\"95 kg\"],\"eye-color\":\"Brown\",\"hair-color\":\"No Hair\"},\"work\":{\"occupation\":\"Mercenary; former enforcer, government operative, sumo wrestler, soldier, assassin, anti-hero, others\",\"base\":\"Cavern-X, Sedona, Arizona, Mobile\"},\"connections\":{\"group-affiliation\":\"Thunderbolts (Strike Team), shares body with Agent Preston; formerly X-Force, Deadpool Corps, Agency X, S.H.I.E.L.D.; Code Red, Six Pack, One World Church, DP Inc., Weapon X, Weapon Plus, Heroes for Hire, Secret Defenders, Frightful Four, Team Deadpool, L\",\"relatives\":\"Thomas \\\\\"Mickey\\\\\" Wilson (father, deceased); Hailey Wilson (mother, deceased); Gretchen Wilson, Orksa (ex-wives); Evil Deadpool (clone); Widdle Wade (clone)\"},\"image\":{\"url\":\"https:\\\\/\\\\/www.superherodb.com\\\\/pictures2\\\\/portraits\\\\/10\\\\/100\\\\/835.jpg\"}}'"
      ]
     },
     "execution_count": 30,
     "metadata": {},
     "output_type": "execute_result"
    }
   ],
   "source": [
    "data.content"
   ]
  },
  {
   "cell_type": "code",
   "execution_count": null,
   "metadata": {},
   "outputs": [],
   "source": []
  },
  {
   "cell_type": "code",
   "execution_count": null,
   "metadata": {},
   "outputs": [],
   "source": []
  }
 ],
 "metadata": {
  "kernelspec": {
   "display_name": "Python 3",
   "language": "python",
   "name": "python3"
  },
  "language_info": {
   "codemirror_mode": {
    "name": "ipython",
    "version": 3
   },
   "file_extension": ".py",
   "mimetype": "text/x-python",
   "name": "python",
   "nbconvert_exporter": "python",
   "pygments_lexer": "ipython3",
   "version": "3.8.5"
  }
 },
 "nbformat": 4,
 "nbformat_minor": 4
}
