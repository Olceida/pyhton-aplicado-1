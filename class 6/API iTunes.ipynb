{
 "cells": [
  {
   "cell_type": "code",
   "execution_count": 28,
   "metadata": {},
   "outputs": [],
   "source": [
    "import requests\n",
    "import json\n",
    "import pandas as pd\n",
    "import plotly.offline as pyo\n",
    "import plotly.graph_objects as go"
   ]
  },
  {
   "cell_type": "code",
   "execution_count": 51,
   "metadata": {},
   "outputs": [],
   "source": [
    "base_url = \"https://itunes.apple.com/search\"\n",
    "term = 'Gorillaz'\n",
    "media = 'music'\n",
    "limit = 200 \n",
    "\n",
    "params = {\n",
    "    'term':term,\n",
    "    'media':media,\n",
    "    'limit':limit\n",
    "}"
   ]
  },
  {
   "cell_type": "code",
   "execution_count": 52,
   "metadata": {},
   "outputs": [
    {
     "data": {
      "text/plain": [
       "<Response [200]>"
      ]
     },
     "execution_count": 52,
     "metadata": {},
     "output_type": "execute_result"
    }
   ],
   "source": [
    "resultados = requests.get(base_url, params=params)\n",
    "resultados"
   ]
  },
  {
   "cell_type": "code",
   "execution_count": 60,
   "metadata": {},
   "outputs": [],
   "source": [
    "info = resultados.json()\n"
   ]
  },
  {
   "cell_type": "code",
   "execution_count": 61,
   "metadata": {},
   "outputs": [],
   "source": [
    "\n",
    "\n",
    "canciones = [elemento['trackName'] for elemento in info['results']]\n",
    "fechas = [elemento['releaseDate'] for elemento in info['results']]\n",
    "sensible = [elemento['trackExplicitness'] for elemento in info['results']]\n",
    "precio = [elemento['collectionPrice'] for elemento in info['results']]\n",
    "duracion = [elemento['trackTimeMillis'] for elemento in info['results']]\n",
    "canciones_en_disco = [elemento['trackCount'] for elemento in info['results']] "
   ]
  },
  {
   "cell_type": "code",
   "execution_count": 62,
   "metadata": {},
   "outputs": [],
   "source": [
    "diccionario = {\n",
    "    'Cancion':canciones,\n",
    "    'Fecha de Lanzamiento':fechas,\n",
    "    'Contenido Sensible':sensible,\n",
    "    'Precio Disco':precio,\n",
    "    'Duracion':duracion,\n",
    "    'Canciones en Disco':canciones_en_disco \n",
    "}"
   ]
  },
  {
   "cell_type": "code",
   "execution_count": 63,
   "metadata": {},
   "outputs": [
    {
     "data": {
      "text/html": [
       "<div>\n",
       "<style scoped>\n",
       "    .dataframe tbody tr th:only-of-type {\n",
       "        vertical-align: middle;\n",
       "    }\n",
       "\n",
       "    .dataframe tbody tr th {\n",
       "        vertical-align: top;\n",
       "    }\n",
       "\n",
       "    .dataframe thead th {\n",
       "        text-align: right;\n",
       "    }\n",
       "</style>\n",
       "<table border=\"1\" class=\"dataframe\">\n",
       "  <thead>\n",
       "    <tr style=\"text-align: right;\">\n",
       "      <th></th>\n",
       "      <th>Cancion</th>\n",
       "      <th>Fecha de Lanzamiento</th>\n",
       "      <th>Contenido Sensible</th>\n",
       "      <th>Precio Disco</th>\n",
       "      <th>Duracion</th>\n",
       "      <th>Canciones en Disco</th>\n",
       "    </tr>\n",
       "  </thead>\n",
       "  <tbody>\n",
       "    <tr>\n",
       "      <th>0</th>\n",
       "      <td>Feel Good Inc.</td>\n",
       "      <td>2005-05-09T07:00:00Z</td>\n",
       "      <td>notExplicit</td>\n",
       "      <td>9.99</td>\n",
       "      <td>221173</td>\n",
       "      <td>15</td>\n",
       "    </tr>\n",
       "    <tr>\n",
       "      <th>1</th>\n",
       "      <td>Dare</td>\n",
       "      <td>2005-05-11T07:00:00Z</td>\n",
       "      <td>notExplicit</td>\n",
       "      <td>9.99</td>\n",
       "      <td>244307</td>\n",
       "      <td>15</td>\n",
       "    </tr>\n",
       "    <tr>\n",
       "      <th>2</th>\n",
       "      <td>Clint Eastwood</td>\n",
       "      <td>2001-03-05T08:00:00Z</td>\n",
       "      <td>explicit</td>\n",
       "      <td>9.99</td>\n",
       "      <td>342560</td>\n",
       "      <td>17</td>\n",
       "    </tr>\n",
       "    <tr>\n",
       "      <th>3</th>\n",
       "      <td>On Melancholy Hill</td>\n",
       "      <td>2010-03-03T08:00:00Z</td>\n",
       "      <td>notExplicit</td>\n",
       "      <td>6.99</td>\n",
       "      <td>233867</td>\n",
       "      <td>18</td>\n",
       "    </tr>\n",
       "    <tr>\n",
       "      <th>4</th>\n",
       "      <td>Stylo (feat. Mos Def and Bobby Womack)</td>\n",
       "      <td>2010-01-26T08:00:00Z</td>\n",
       "      <td>notExplicit</td>\n",
       "      <td>6.99</td>\n",
       "      <td>270520</td>\n",
       "      <td>18</td>\n",
       "    </tr>\n",
       "    <tr>\n",
       "      <th>...</th>\n",
       "      <td>...</td>\n",
       "      <td>...</td>\n",
       "      <td>...</td>\n",
       "      <td>...</td>\n",
       "      <td>...</td>\n",
       "      <td>...</td>\n",
       "    </tr>\n",
       "    <tr>\n",
       "      <th>195</th>\n",
       "      <td>Kids With Guns</td>\n",
       "      <td>2005-05-11T07:00:00Z</td>\n",
       "      <td>notExplicit</td>\n",
       "      <td>11.99</td>\n",
       "      <td>225840</td>\n",
       "      <td>15</td>\n",
       "    </tr>\n",
       "    <tr>\n",
       "      <th>196</th>\n",
       "      <td>Tomorrow Comes Today</td>\n",
       "      <td>2001-03-26T08:00:00Z</td>\n",
       "      <td>notExplicit</td>\n",
       "      <td>11.99</td>\n",
       "      <td>193600</td>\n",
       "      <td>15</td>\n",
       "    </tr>\n",
       "    <tr>\n",
       "      <th>197</th>\n",
       "      <td>El Manana</td>\n",
       "      <td>2005-05-11T07:00:00Z</td>\n",
       "      <td>notExplicit</td>\n",
       "      <td>11.99</td>\n",
       "      <td>230027</td>\n",
       "      <td>15</td>\n",
       "    </tr>\n",
       "    <tr>\n",
       "      <th>198</th>\n",
       "      <td>Superfast Jellyfish (feat. Gruff Rhys and De L...</td>\n",
       "      <td>2010-03-03T08:00:00Z</td>\n",
       "      <td>notExplicit</td>\n",
       "      <td>11.99</td>\n",
       "      <td>174867</td>\n",
       "      <td>15</td>\n",
       "    </tr>\n",
       "    <tr>\n",
       "      <th>199</th>\n",
       "      <td>Garage Palace (feat. Little Simz)</td>\n",
       "      <td>2017-10-31T07:00:00Z</td>\n",
       "      <td>explicit</td>\n",
       "      <td>1.29</td>\n",
       "      <td>151400</td>\n",
       "      <td>1</td>\n",
       "    </tr>\n",
       "  </tbody>\n",
       "</table>\n",
       "<p>200 rows × 6 columns</p>\n",
       "</div>"
      ],
      "text/plain": [
       "                                               Cancion  Fecha de Lanzamiento  \\\n",
       "0                                       Feel Good Inc.  2005-05-09T07:00:00Z   \n",
       "1                                                 Dare  2005-05-11T07:00:00Z   \n",
       "2                                       Clint Eastwood  2001-03-05T08:00:00Z   \n",
       "3                                   On Melancholy Hill  2010-03-03T08:00:00Z   \n",
       "4               Stylo (feat. Mos Def and Bobby Womack)  2010-01-26T08:00:00Z   \n",
       "..                                                 ...                   ...   \n",
       "195                                     Kids With Guns  2005-05-11T07:00:00Z   \n",
       "196                               Tomorrow Comes Today  2001-03-26T08:00:00Z   \n",
       "197                                          El Manana  2005-05-11T07:00:00Z   \n",
       "198  Superfast Jellyfish (feat. Gruff Rhys and De L...  2010-03-03T08:00:00Z   \n",
       "199                  Garage Palace (feat. Little Simz)  2017-10-31T07:00:00Z   \n",
       "\n",
       "    Contenido Sensible  Precio Disco  Duracion  Canciones en Disco  \n",
       "0          notExplicit          9.99    221173                  15  \n",
       "1          notExplicit          9.99    244307                  15  \n",
       "2             explicit          9.99    342560                  17  \n",
       "3          notExplicit          6.99    233867                  18  \n",
       "4          notExplicit          6.99    270520                  18  \n",
       "..                 ...           ...       ...                 ...  \n",
       "195        notExplicit         11.99    225840                  15  \n",
       "196        notExplicit         11.99    193600                  15  \n",
       "197        notExplicit         11.99    230027                  15  \n",
       "198        notExplicit         11.99    174867                  15  \n",
       "199           explicit          1.29    151400                   1  \n",
       "\n",
       "[200 rows x 6 columns]"
      ]
     },
     "execution_count": 63,
     "metadata": {},
     "output_type": "execute_result"
    }
   ],
   "source": [
    "df = pd.DataFrame(diccionario)\n",
    "df"
   ]
  },
  {
   "cell_type": "code",
   "execution_count": 65,
   "metadata": {},
   "outputs": [
    {
     "data": {
      "text/plain": [
       "'temp-plot.html'"
      ]
     },
     "execution_count": 65,
     "metadata": {},
     "output_type": "execute_result"
    }
   ],
   "source": [
    "data = [go.Scatter(x=df['Fecha de Lanzamiento'],\n",
    "                   y=df['Canciones en Disco'],\n",
    "                   mode='markers',\n",
    "                   hovertext=df['Cancion'],\n",
    "                   marker = dict(\n",
    "                       size= df['Precio Disco']*2,\n",
    "                       color = df['Duracion'],\n",
    "                       showscale = True\n",
    "                   )\n",
    "                  )]\n",
    "layout = go.Layout(title=term)\n",
    "\n",
    "fig = go.Figure(data=data, layout=layout)\n",
    "\n",
    "pyo.plot(fig)"
   ]
  },
  {
   "cell_type": "code",
   "execution_count": null,
   "metadata": {},
   "outputs": [],
   "source": []
  },
  {
   "cell_type": "code",
   "execution_count": null,
   "metadata": {},
   "outputs": [],
   "source": []
  }
 ],
 "metadata": {
  "kernelspec": {
   "display_name": "Python 3",
   "language": "python",
   "name": "python3"
  },
  "language_info": {
   "codemirror_mode": {
    "name": "ipython",
    "version": 3
   },
   "file_extension": ".py",
   "mimetype": "text/x-python",
   "name": "python",
   "nbconvert_exporter": "python",
   "pygments_lexer": "ipython3",
   "version": "3.8.5"
  }
 },
 "nbformat": 4,
 "nbformat_minor": 4
}
