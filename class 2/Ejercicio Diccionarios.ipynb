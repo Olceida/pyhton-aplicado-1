{
 "cells": [
  {
   "cell_type": "code",
   "execution_count": 1,
   "metadata": {},
   "outputs": [],
   "source": [
    "alumno = {\n",
    "    \"nombre\": \"Amapolo\",\n",
    "    \"edad\": 23,\n",
    "    \"situacion\": \"regular\",\n",
    "    \"hobbies\": [\"nadar\", \"correr\", \"fumar lechuga cosmica\"],\n",
    "    \"materias\": {\n",
    "        \"historia\": {\n",
    "            \"profesor\": {\n",
    "                \"nombre\": \"Guaripolo\",\n",
    "                \"universidad\": \"UNAM\",\n",
    "                \"año egreso\": 1982\n",
    "            },\n",
    "            \"calificacion\": \"10\"\n",
    "        },\n",
    "        \"algebra\": {\n",
    "            \"profesor\": {\n",
    "                \"nombre\": \"Salgado Macedonio\",\n",
    "                \"universidad\": \"SINATRACA\",\n",
    "                \"año egreso\": 1988\n",
    "            },\n",
    "            \"calificacion\": \"7.2\"\n",
    "        },\n",
    "        \"programacion\": {\n",
    "            \"profesor\": {\n",
    "                \"nombre\": \"Peter Parker\",\n",
    "                \"universidad\": \"IPN\",\n",
    "                \"año egreso\": 2012\n",
    "            },\n",
    "            \"calificacion\": \"8.9\"\n",
    "        },\n",
    "    }\n",
    "}\n"
   ]
  },
  {
   "cell_type": "code",
   "execution_count": 3,
   "metadata": {},
   "outputs": [
    {
     "data": {
      "text/plain": [
       "{'nombre': 'Amapolo',\n",
       " 'edad': 23,\n",
       " 'situacion': 'regular',\n",
       " 'hobbies': ['nadar', 'correr', 'fumar lechuga cosmica'],\n",
       " 'materias': {'historia': {'profesor': {'nombre': 'Guaripolo',\n",
       "    'universidad': 'UNAM',\n",
       "    'año egreso': 1982},\n",
       "   'calificacion': '10'},\n",
       "  'algebra': {'profesor': {'nombre': 'Salgado Macedonio',\n",
       "    'universidad': 'SINATRACA',\n",
       "    'año egreso': 1988},\n",
       "   'calificacion': '7.2'},\n",
       "  'programacion': {'profesor': {'nombre': 'Peter Parker',\n",
       "    'universidad': 'IPN',\n",
       "    'año egreso': 2012},\n",
       "   'calificacion': '8.9'}}}"
      ]
     },
     "execution_count": 3,
     "metadata": {},
     "output_type": "execute_result"
    }
   ],
   "source": [
    "alumno"
   ]
  },
  {
   "cell_type": "code",
   "execution_count": 4,
   "metadata": {},
   "outputs": [
    {
     "name": "stdout",
     "output_type": "stream",
     "text": [
      "El alumno Amapolo tiene 23 anios de edad\n"
     ]
    }
   ],
   "source": [
    "print(f\"El alumno {alumno['nombre']} tiene {alumno['edad']} anios de edad\")"
   ]
  },
  {
   "cell_type": "code",
   "execution_count": 5,
   "metadata": {},
   "outputs": [
    {
     "name": "stdout",
     "output_type": "stream",
     "text": [
      "Al alumno Amapolo le gusta fumar lechuga cosmica\n"
     ]
    }
   ],
   "source": [
    "print(f\"Al alumno Amapolo le gusta {alumno['hobbies'][2]}\")"
   ]
  },
  {
   "cell_type": "code",
   "execution_count": 7,
   "metadata": {},
   "outputs": [
    {
     "name": "stdout",
     "output_type": "stream",
     "text": [
      "10.0\n",
      "7.2\n",
      "8.9\n"
     ]
    }
   ],
   "source": [
    "historia= float(alumno['materias']['historia']['calificacion'])\n",
    "algebra= float(alumno['materias']['algebra']['calificacion'])\n",
    "programacion= float(alumno['materias']['programacion']['calificacion'])\n",
    "print(historia)\n",
    "print(algebra)\n",
    "print(programacion)"
   ]
  },
  {
   "cell_type": "code",
   "execution_count": 8,
   "metadata": {},
   "outputs": [
    {
     "name": "stdout",
     "output_type": "stream",
     "text": [
      "El promedio del alumno es 8.700000000000001\n"
     ]
    }
   ],
   "source": [
    "promedio = (historia+algebra+programacion)/3\n",
    "print(f\"El promedio del alumno es {promedio}\")"
   ]
  },
  {
   "cell_type": "code",
   "execution_count": 9,
   "metadata": {},
   "outputs": [
    {
     "name": "stdout",
     "output_type": "stream",
     "text": [
      "El profesor Guaripolo\n",
      "Egreso en 1982\n",
      "De UNAM\n"
     ]
    }
   ],
   "source": [
    "print(f\"El profesor {alumno['materias']['historia']['profesor']['nombre']}\")\n",
    "print(f\"Egreso en {alumno['materias']['historia']['profesor']['año egreso']}\")\n",
    "print(f\"De {alumno['materias']['historia']['profesor']['universidad']}\")"
   ]
  },
  {
   "cell_type": "code",
   "execution_count": null,
   "metadata": {},
   "outputs": [],
   "source": []
  },
  {
   "cell_type": "code",
   "execution_count": null,
   "metadata": {},
   "outputs": [],
   "source": []
  },
  {
   "cell_type": "code",
   "execution_count": 10,
   "metadata": {},
   "outputs": [],
   "source": [
    "alumno['hobbies'][2]= 'Ir a misa'"
   ]
  },
  {
   "cell_type": "code",
   "execution_count": 12,
   "metadata": {},
   "outputs": [
    {
     "data": {
      "text/plain": [
       "{'nombre': 'Amapolo',\n",
       " 'edad': 23,\n",
       " 'situacion': 'regular',\n",
       " 'hobbies': ['nadar', 'correr', 'Ir a misa'],\n",
       " 'materias': {'historia': {'profesor': {'nombre': 'Guaripolo',\n",
       "    'universidad': 'UNAM',\n",
       "    'año egreso': 1982},\n",
       "   'calificacion': '10'},\n",
       "  'algebra': {'profesor': {'nombre': 'Salgado Macedonio',\n",
       "    'universidad': 'SINATRACA',\n",
       "    'año egreso': 1988},\n",
       "   'calificacion': '7.2'},\n",
       "  'programacion': {'profesor': {'nombre': 'Peter Parker',\n",
       "    'universidad': 'IPN',\n",
       "    'año egreso': 2012},\n",
       "   'calificacion': '8.9'}}}"
      ]
     },
     "execution_count": 12,
     "metadata": {},
     "output_type": "execute_result"
    }
   ],
   "source": [
    "alumno"
   ]
  },
  {
   "cell_type": "code",
   "execution_count": 14,
   "metadata": {},
   "outputs": [
    {
     "data": {
      "text/plain": [
       "{'nombre': 'Amapolo',\n",
       " 'edad': 23,\n",
       " 'situacion': 'regular',\n",
       " 'hobbies': ['nadar', 'correr', 'Ir a misa'],\n",
       " 'materias': {'historia': {'profesor': {'nombre': 'Guaripolo',\n",
       "    'universidad': 'UNAM',\n",
       "    'año egreso': 1982},\n",
       "   'calificacion': '10'},\n",
       "  'algebra': {'profesor': {'nombre': 'Salgado Macedonio',\n",
       "    'universidad': 'SINATRACA',\n",
       "    'año egreso': 1988},\n",
       "   'calificacion': '9.2'},\n",
       "  'programacion': {'profesor': {'nombre': 'Peter Parker',\n",
       "    'universidad': 'IPN',\n",
       "    'año egreso': 2012},\n",
       "   'calificacion': '8.9'}}}"
      ]
     },
     "execution_count": 14,
     "metadata": {},
     "output_type": "execute_result"
    }
   ],
   "source": [
    "alumno['materias']['algebra']['calificacion'] = '9.2'\n",
    "alumno"
   ]
  },
  {
   "cell_type": "code",
   "execution_count": null,
   "metadata": {},
   "outputs": [],
   "source": []
  },
  {
   "cell_type": "code",
   "execution_count": 17,
   "metadata": {},
   "outputs": [
    {
     "name": "stdout",
     "output_type": "stream",
     "text": [
      "Al alumno le gusta nadar\n",
      "Al alumno le gusta correr\n",
      "Al alumno le gusta Ir a misa\n"
     ]
    }
   ],
   "source": [
    "for hobby in alumno['hobbies']:\n",
    "    print(f'Al alumno le gusta {hobby}')"
   ]
  },
  {
   "cell_type": "code",
   "execution_count": null,
   "metadata": {},
   "outputs": [],
   "source": []
  }
 ],
 "metadata": {
  "kernelspec": {
   "display_name": "Python 3",
   "language": "python",
   "name": "python3"
  },
  "language_info": {
   "codemirror_mode": {
    "name": "ipython",
    "version": 3
   },
   "file_extension": ".py",
   "mimetype": "text/x-python",
   "name": "python",
   "nbconvert_exporter": "python",
   "pygments_lexer": "ipython3",
   "version": "3.8.5"
  }
 },
 "nbformat": 4,
 "nbformat_minor": 4
}
