{
 "cells": [
  {
   "cell_type": "markdown",
   "metadata": {},
   "source": [
    "# Variable arguments (var args)"
   ]
  },
  {
   "cell_type": "code",
   "execution_count": 9,
   "metadata": {},
   "outputs": [],
   "source": [
    "def suma(*numeros):\n",
    "    resultado = 0\n",
    "    for numero in numeros:\n",
    "        resultado = resultado+numero\n",
    "    return resultado\n",
    "   "
   ]
  },
  {
   "cell_type": "code",
   "execution_count": 12,
   "metadata": {},
   "outputs": [
    {
     "data": {
      "text/plain": [
       "58"
      ]
     },
     "execution_count": 12,
     "metadata": {},
     "output_type": "execute_result"
    }
   ],
   "source": [
    "suma(1,2,3,4,5,1,3,4,2,5,6,5,4,3,2,3,3,2)"
   ]
  },
  {
   "cell_type": "code",
   "execution_count": 13,
   "metadata": {},
   "outputs": [],
   "source": [
    "listaNumeros = [1,2,3]"
   ]
  },
  {
   "cell_type": "code",
   "execution_count": 17,
   "metadata": {},
   "outputs": [
    {
     "data": {
      "text/plain": [
       "6"
      ]
     },
     "execution_count": 17,
     "metadata": {},
     "output_type": "execute_result"
    }
   ],
   "source": [
    "suma(*listaNumeros)"
   ]
  },
  {
   "cell_type": "code",
   "execution_count": 18,
   "metadata": {},
   "outputs": [],
   "source": [
    "def saludar(*amigos):\n",
    "    for amigo in amigos:\n",
    "        print(f\"Hola {amigo}!\")"
   ]
  },
  {
   "cell_type": "code",
   "execution_count": 19,
   "metadata": {},
   "outputs": [
    {
     "name": "stdout",
     "output_type": "stream",
     "text": [
      "Hola Diana!\n",
      "Hola Erick!\n",
      "Hola Leslie!\n"
     ]
    }
   ],
   "source": [
    "saludar('Diana','Erick','Leslie')"
   ]
  },
  {
   "cell_type": "code",
   "execution_count": 22,
   "metadata": {},
   "outputs": [
    {
     "name": "stdout",
     "output_type": "stream",
     "text": [
      "Hola Diana!\n",
      "Hola Erick!\n",
      "Hola Leslie!\n"
     ]
    }
   ],
   "source": [
    "listaAmigos = ['Diana','Erick','Leslie']\n",
    "saludar(*listaAmigos)"
   ]
  },
  {
   "cell_type": "code",
   "execution_count": 23,
   "metadata": {},
   "outputs": [],
   "source": [
    "def saludarBeffo(beffo,*amigos):\n",
    "    print(f\"{beffo} es mi mejor amigo\")\n",
    "    for amigo in amigos:\n",
    "        print(f\"Hola {amigo}!\")"
   ]
  },
  {
   "cell_type": "code",
   "execution_count": 25,
   "metadata": {},
   "outputs": [
    {
     "name": "stdout",
     "output_type": "stream",
     "text": [
      "Diana es mi mejor amigo\n",
      "Hola Erick!\n",
      "Hola Leslie!\n",
      "Hola 1!\n",
      "Hola 2!\n",
      "Hola 3!\n",
      "Hola 4!\n",
      "Hola 5!\n",
      "Hola 6!\n",
      "Hola 7!\n",
      "Hola 8!\n",
      "Hola 9!\n"
     ]
    }
   ],
   "source": [
    "saludarBeffo('Diana','Erick','Leslie',1,2,3,4,5,6,7,8,9)"
   ]
  },
  {
   "cell_type": "code",
   "execution_count": null,
   "metadata": {},
   "outputs": [],
   "source": []
  }
 ],
 "metadata": {
  "kernelspec": {
   "display_name": "Python 3",
   "language": "python",
   "name": "python3"
  },
  "language_info": {
   "codemirror_mode": {
    "name": "ipython",
    "version": 3
   },
   "file_extension": ".py",
   "mimetype": "text/x-python",
   "name": "python",
   "nbconvert_exporter": "python",
   "pygments_lexer": "ipython3",
   "version": "3.8.5"
  }
 },
 "nbformat": 4,
 "nbformat_minor": 4
}
